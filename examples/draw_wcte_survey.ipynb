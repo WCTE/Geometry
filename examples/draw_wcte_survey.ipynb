{
 "cells": [
  {
   "cell_type": "code",
   "execution_count": 1,
   "id": "initial_id",
   "metadata": {
    "ExecuteTime": {
     "end_time": "2024-09-22T21:35:01.796945Z",
     "start_time": "2024-09-22T21:35:00.974693Z"
    }
   },
   "outputs": [],
   "source": [
    "import k3d\n",
    "import numpy as np\n",
    "\n",
    "import sys\n",
    "sys.path.insert(0, \"..\")\n",
    "\n",
    "from Geometry.WCD import WCD"
   ]
  },
  {
   "cell_type": "code",
   "execution_count": 2,
   "id": "bd906df9653d1d7c",
   "metadata": {
    "ExecuteTime": {
     "end_time": "2024-01-06T22:10:08.134754200Z",
     "start_time": "2024-01-06T22:10:07.628595200Z"
    },
    "jupyter": {
     "outputs_hidden": false
    }
   },
   "outputs": [],
   "source": [
    "wcte = WCD('wcte', kind='WCTE')"
   ]
  },
  {
   "cell_type": "code",
   "execution_count": 4,
   "id": "f0a156dc5d2ca233",
   "metadata": {
    "jupyter": {
     "outputs_hidden": false
    }
   },
   "outputs": [
    {
     "data": {
      "application/vnd.jupyter.widget-view+json": {
       "model_id": "8652ef2dfdb14975b3cccc275fb37809",
       "version_major": 2,
       "version_minor": 0
      },
      "text/plain": [
       "Output()"
      ]
     },
     "metadata": {},
     "output_type": "display_data"
    }
   ],
   "source": [
    "# Show numbering and orientation of all mPMT and bar-end target numberings in the WCTE detector\n",
    "# simplify to show numbering for the front ones, but not back ones (several different views needed)\n",
    "\n",
    "plot = k3d.plot()\n",
    "\n",
    "# mpmt coordinates\n",
    "color_z = 0x0000ff\n",
    "color_x = 0xff0000\n",
    "color_y = 0x00ff00\n",
    "origins = []\n",
    "z_vecs = []\n",
    "x_vecs = []\n",
    "y_vecs = []\n",
    "vec_length = 100. # length of x,z vectors to show for each pmt\n",
    "\n",
    "color_mpmt = 0xabb2b9\n",
    "color_mpmt_c = 0x333333\n",
    "color_missing_mpmt = 0xa83273\n",
    "missing_mpmts = [45, 85, 91, 99]\n",
    "color_target = 0xad4113\n",
    "\n",
    "n_point_mpmt = 8\n",
    "indices_mpmt = []\n",
    "for i in range(n_point_mpmt):\n",
    "    indices_mpmt.append([i,(i+1)%n_point_mpmt])\n",
    "\n",
    "n_fd_point_mpmt = 40\n",
    "fd_indices_mpmt = []\n",
    "for i in range(n_fd_point_mpmt):\n",
    "    fd_indices_mpmt.append([i,(i+1)%n_fd_point_mpmt])\n",
    "    \n",
    "n_point_ft = 20\n",
    "indices_ft = []\n",
    "for i in range(n_point_ft):\n",
    "    indices_ft.append([i,(i+1)%n_point_ft])\n",
    "    \n",
    "# draw the extent of the mpmt baseplates (except for the bottom endcap (not visible for the full survey)\n",
    "for i_mpmt,mpmt in enumerate(wcte.mpmts):\n",
    "    if i_mpmt < 21:\n",
    "        continue\n",
    "    \n",
    "    p = mpmt.get_placement('design')\n",
    "    location, direction_x, direction_z = p['location'], p['direction_x'], p['direction_z']\n",
    "    direction_y = np.cross(direction_z,direction_x)\n",
    "    # lists to show mPMT coordinate systems\n",
    "    z_vec = list(np.array(direction_z)*vec_length)\n",
    "    x_vec = list(np.array(direction_x)*vec_length)\n",
    "    y_vec = list(np.array(direction_y)*vec_length)\n",
    "    origins.append(location)\n",
    "    if i_mpmt not in missing_mpmts:\n",
    "        z_vecs.append(z_vec)\n",
    "        x_vecs.append(x_vec)\n",
    "        y_vecs.append(y_vec)\n",
    "    \n",
    "    baseplate_points = np.array(mpmt.get_xy_points('design'),dtype=np.float32)\n",
    "    color = color_mpmt\n",
    "    if i_mpmt in missing_mpmts:\n",
    "        color = color_missing_mpmt\n",
    "        \n",
    "    indices = indices_mpmt\n",
    "    if mpmt.kind == 'FD':\n",
    "        indices = fd_indices_mpmt\n",
    "    plt_baseplate = k3d.lines(baseplate_points, indices, indices_type='segment', color=color)\n",
    "    plot += plt_baseplate\n",
    "    \n",
    "    if i_mpmt not in missing_mpmts:\n",
    "        if mpmt.kind != 'FD':\n",
    "            feedthrough_points = np.array(mpmt.get_xy_points('design', feature='feedthrough'),dtype=np.float32)\n",
    "            plt_feedthrough = k3d.lines(feedthrough_points, indices_ft, indices_type='segment', color=color_mpmt)\n",
    "            plot += plt_feedthrough\n",
    "        else:\n",
    "            feedthrough1_points = np.array(mpmt.get_xy_points('design', feature='fd_feedthrough1'),dtype=np.float32)\n",
    "            plt_feedthrough1 = k3d.lines(feedthrough1_points, indices_ft, indices_type='segment', color=color_mpmt)\n",
    "            plot += plt_feedthrough1\n",
    "            feedthrough2_points = np.array(mpmt.get_xy_points('design', feature='fd_feedthrough2'),dtype=np.float32)\n",
    "            plt_feedthrough2 = k3d.lines(feedthrough2_points, indices_ft, indices_type='segment', color=color_mpmt)\n",
    "            plot += plt_feedthrough2\n",
    "    \n",
    "    # skip the following for mPMTs not in the foreground:\n",
    "    fl_mpmt = [29,33,21,25][3]\n",
    "    top_selection = {29:[100,101,102,103],33:[103,104,105,94],21:[94,95,96,97],25:[97,98,99,100]}[fl_mpmt]\n",
    "    if (i_mpmt > 85 or (i_mpmt - fl_mpmt + 16)%16 > 3) and i_mpmt not in top_selection:\n",
    "        continue\n",
    "    \n",
    "    \n",
    "    # k3d complains about the following not being float32!\n",
    "    color = color_mpmt_c\n",
    "    if i_mpmt in missing_mpmts:\n",
    "        color = color_missing_mpmt\n",
    "    plt_text = k3d.text(str(i_mpmt), position=location, reference_point='cc', size=1., label_box=False, color=color)\n",
    "    plot += plt_text\n",
    "    \n",
    "    # draw the survey C holes\n",
    "    if 1==1 and i_mpmt not in missing_mpmts:\n",
    "        for c in ['c1','c2','c3','c4']:\n",
    "            survey_points = np.array(mpmt.get_xy_points('design', feature='survey_'+c),dtype=np.float32)\n",
    "            plt_survey = k3d.lines(survey_points, indices_ft, indices_type='segment', color=color_mpmt)\n",
    "            plot += plt_survey\n",
    "            # remove the text if it's too cluttered\n",
    "            plt_text = k3d.text(c, position=survey_points[0], reference_point='cc', size=1., label_box=False, color=color_mpmt_c)\n",
    "            plot += plt_text\n",
    "\n",
    "# draw the targets\n",
    "for sm in wcte.sms:\n",
    "    first_target = {'bottom':0, 'barrel':0, 'top':16}[sm.name]\n",
    "    target_origins = []\n",
    "    if 1==1 and sm.targets is not None:\n",
    "        for i_target, target in enumerate(sm.targets):\n",
    "            \n",
    "            p = target.get_placement('design')\n",
    "            location, direction_x, direction_z = p['location'], p['direction_x'], p['direction_z']\n",
    "            target_origins.append(location)\n",
    "            text_location = [location[j] - 10.*direction_z[j] for j in range(3)]\n",
    "            plt_text = k3d.text(str(i_target+first_target), position=text_location, reference_point='cc', size=1., label_box=False, color=color_target)\n",
    "            plot += plt_text\n",
    "\n",
    "\n",
    "plot.display()"
   ]
  },
  {
   "cell_type": "code",
   "execution_count": 6,
   "id": "e0eece6a-339a-4599-b4a2-28507044390c",
   "metadata": {},
   "outputs": [
    {
     "data": {
      "text/plain": [
       "'bottom'"
      ]
     },
     "execution_count": 6,
     "metadata": {},
     "output_type": "execute_result"
    }
   ],
   "source": [
    "wcte.sms[0].name"
   ]
  },
  {
   "cell_type": "code",
   "execution_count": null,
   "id": "8761daf2",
   "metadata": {},
   "outputs": [],
   "source": []
  }
 ],
 "metadata": {
  "kernelspec": {
   "display_name": "Python 3 (ipykernel)",
   "language": "python",
   "name": "python3"
  },
  "language_info": {
   "codemirror_mode": {
    "name": "ipython",
    "version": 3
   },
   "file_extension": ".py",
   "mimetype": "text/x-python",
   "name": "python",
   "nbconvert_exporter": "python",
   "pygments_lexer": "ipython3",
   "version": "3.9.5"
  }
 },
 "nbformat": 4,
 "nbformat_minor": 5
}
