{
 "cells": [
  {
   "cell_type": "code",
   "execution_count": 1,
   "metadata": {
    "ExecuteTime": {
     "end_time": "2024-01-06T22:28:44.202723Z",
     "start_time": "2024-01-06T22:28:43.740185600Z"
    }
   },
   "outputs": [],
   "source": [
    "import k3d\n",
    "import numpy as np\n",
    "\n",
    "import sys\n",
    "sys.path.insert(0, \"..\")\n",
    "\n",
    "from Geometry.MPMT import MPMT"
   ]
  },
  {
   "cell_type": "code",
   "execution_count": 2,
   "metadata": {
    "ExecuteTime": {
     "end_time": "2024-01-06T18:36:12.119947800Z",
     "start_time": "2024-01-06T18:36:12.046667300Z"
    },
    "collapsed": false,
    "jupyter": {
     "outputs_hidden": false
    }
   },
   "outputs": [
    {
     "name": "stderr",
     "output_type": "stream",
     "text": [
      "C:\\Users\\Karlen\\AppData\\Local\\Programs\\Python\\Python39\\lib\\site-packages\\traittypes\\traittypes.py:97: UserWarning: Given trait value dtype \"float64\" does not match required type \"float32\". A coerced copy has been created.\n",
      "  warnings.warn(\n"
     ]
    },
    {
     "data": {
      "application/vnd.jupyter.widget-view+json": {
       "model_id": "d01cecadfb814195b0c185d1dc462d80",
       "version_major": 2,
       "version_minor": 0
      },
      "text/plain": [
       "Output()"
      ]
     },
     "metadata": {},
     "output_type": "display_data"
    }
   ],
   "source": [
    "# Draw the components of a single mPMT using k3d - it is placed at the origin\n",
    "\n",
    "plot = k3d.plot()\n",
    "\n",
    "# make a standard domed mPMT\n",
    "my_mpmt = MPMT('my_mpmt', kind='ME')\n",
    "\n",
    "# pmt coordinates\n",
    "color_z = 0x0000ff\n",
    "color_x = 0xff0000\n",
    "color_y = 0x00ff00\n",
    "origins = []\n",
    "z_vecs = []\n",
    "x_vecs = []\n",
    "y_vecs = []\n",
    "vec_length = 30. # length of x,y,z vectors to show for each pmt\n",
    "\n",
    "# pmt faces:\n",
    "color_pmt = 0xdc7633\n",
    "n_point_pmt = 20\n",
    "indices_pmt = []\n",
    "for i in range(n_point_pmt):\n",
    "    indices_pmt.append([i,(i+1)%n_point_pmt])\n",
    "\n",
    "# led coordinates\n",
    "led_origins = []\n",
    "led_z_vecs = []\n",
    "led_vec_length = 30. # length of z vectors to show for each led\n",
    "\n",
    "color_led = 0x00ff00\n",
    "\n",
    "# mpmt\n",
    "color_mpmt = 0xabb2b9\n",
    "baseplate_points = np.array(my_mpmt.get_xy_points('design'),dtype=np.float32)\n",
    "n_point_mpmt = len(baseplate_points)\n",
    "indices_mpmt = []\n",
    "for i in range(n_point_mpmt):\n",
    "    indices_mpmt.append([i,(i+1)%n_point_mpmt])\n",
    "\n",
    "# draw the extent of an mpmt\n",
    "plt_baseplate = k3d.lines(baseplate_points, indices_mpmt, indices_type='segment', color=color_mpmt)\n",
    "plot += plt_baseplate\n",
    "\n",
    "# draw the feedthroughs\n",
    "feedthrough_points = np.array(my_mpmt.get_xy_points('design', feature='feedthrough'),dtype=np.float32)\n",
    "n_point_mpmt = len(feedthrough_points)\n",
    "indices_mpmt = []\n",
    "for i in range(n_point_mpmt):\n",
    "    indices_mpmt.append([i,(i+1)%n_point_mpmt])\n",
    "\n",
    "plt_feedthrough = k3d.lines(feedthrough_points, indices_mpmt, indices_type='segment', color=color_mpmt)\n",
    "plot += plt_feedthrough\n",
    "\n",
    "# draw the survey C holes\n",
    "for c in ['c1','c2','c3','c4']:\n",
    "    survey_points = np.array(my_mpmt.get_xy_points('design', feature='survey_'+c),dtype=np.float32)\n",
    "    n_point_mpmt = len(survey_points)\n",
    "    indices_mpmt = []\n",
    "    for i in range(n_point_mpmt):\n",
    "        indices_mpmt.append([i,(i+1)%n_point_mpmt])\n",
    "    plt_survey = k3d.lines(survey_points, indices_mpmt, indices_type='segment', color=color_mpmt)\n",
    "    plot += plt_survey\n",
    "    plt_text = k3d.text(c, position=survey_points[0], reference_point='cc', size=1., label_box=False, color=color_mpmt)\n",
    "    plot += plt_text\n",
    "\n",
    "# draw the fiducial points\n",
    "fiducial_points = np.array(my_mpmt.get_fiducials('design'),dtype=np.float32)\n",
    "# text offset in mPMT z direction\n",
    "mpmt_z = my_mpmt.get_transformed_points([0.,0.,1.],'design')\n",
    "for i_f, fiducial_point in enumerate(fiducial_points):\n",
    "    text_location = [fiducial_point[j] - 10.*mpmt_z[j] for j in range(3)]\n",
    "    plt_text = k3d.text('f'+str(i_f+1), position=text_location, reference_point='cc', size=1., label_box=False, color=color_mpmt)\n",
    "    plot += plt_text\n",
    "\n",
    "fiducial_locations = np.array(fiducial_points, dtype=np.float32)\n",
    "plt_fps = k3d.points(positions=fiducial_locations,\n",
    "                    point_size=8.,\n",
    "                    shader='3d',\n",
    "                    color=color_mpmt)\n",
    "plot += plt_fps\n",
    "\n",
    "for i_pmt, pmt in enumerate(my_mpmt.pmts):\n",
    "    p = pmt.get_placement('design')\n",
    "    location, direction_x, direction_z = p['location'], p['direction_x'], p['direction_z']\n",
    "    direction_y = np.cross(direction_z,direction_x)\n",
    "\n",
    "    # lists to show PMT coordinate systems\n",
    "    z_vec = list(np.array(direction_z)*vec_length)\n",
    "    x_vec = list(np.array(direction_x)*vec_length)\n",
    "    y_vec = list(np.array(direction_y)*vec_length)\n",
    "    origins.append(location)\n",
    "    z_vecs.append(z_vec)\n",
    "    x_vecs.append(x_vec)\n",
    "    y_vecs.append(y_vec)\n",
    "\n",
    "    # k3d expects ndarray of float32 for segments\n",
    "    circle_points = np.array(pmt.get_circle_points(n_point_pmt,'design'),dtype=np.float32)\n",
    "    plt_circle = k3d.lines(circle_points, indices_pmt, indices_type='segment', color=color_pmt)\n",
    "    plot += plt_circle\n",
    "    # k3d complains about the following not being float32!\n",
    "    plt_text = k3d.text(str(i_pmt), position=location, reference_point='cc', size=1., label_box=False, color=color_pmt)\n",
    "    plot += plt_text\n",
    "\n",
    "# plot all pmt coordinate axes\n",
    "plt_z_vecs = k3d.vectors(origins=origins, vectors=z_vecs, color=color_z, head_size=50.)\n",
    "plot += plt_z_vecs\n",
    "plt_x_vecs = k3d.vectors(origins=origins, vectors=x_vecs, color=color_x, head_size=50.)\n",
    "plot += plt_x_vecs\n",
    "plt_y_vecs = k3d.vectors(origins=origins, vectors=y_vecs, color=color_y, head_size=50.)\n",
    "plot += plt_y_vecs\n",
    "\n",
    "# show the LED diffuser locations\n",
    "\n",
    "for i_led, led in enumerate(my_mpmt.leds):\n",
    "    p = led.get_placement('design')\n",
    "    location, direction_x, direction_z = p['location'], p['direction_x'], p['direction_z']\n",
    "    z_vec = list(np.array(direction_z)*led_vec_length)\n",
    "    led_origins.append(location)\n",
    "    led_z_vecs.append(z_vec)\n",
    "\n",
    "    # k3d complains about the following not being float32!\n",
    "    text_location = [location[j] + 10.*direction_x[j] for j in range(3)]\n",
    "    plt_text = k3d.text(str(i_led), position=text_location, reference_point='cc', size=1., label_box=False, color=color_led)\n",
    "    plot += plt_text\n",
    "\n",
    "#plot led locations and axis\n",
    "led_locations = np.array(led_origins, dtype=np.float32)\n",
    "plt_leds = k3d.points(positions=led_locations,\n",
    "                        point_size=8.,\n",
    "                        shader='3d',\n",
    "                        color=color_led)\n",
    "plot += plt_leds\n",
    "\n",
    "plt_led_z_vecs = k3d.vectors(origins=led_origins, vectors=led_z_vecs, color=color_z, head_size=50.)\n",
    "plot += plt_led_z_vecs\n",
    "\n",
    "plot.display()"
   ]
  },
  {
   "cell_type": "code",
   "execution_count": null,
   "metadata": {
    "collapsed": false,
    "jupyter": {
     "outputs_hidden": false
    }
   },
   "outputs": [],
   "source": []
  }
 ],
 "metadata": {
  "kernelspec": {
   "display_name": "Python 3 (ipykernel)",
   "language": "python",
   "name": "python3"
  },
  "language_info": {
   "codemirror_mode": {
    "name": "ipython",
    "version": 3
   },
   "file_extension": ".py",
   "mimetype": "text/x-python",
   "name": "python",
   "nbconvert_exporter": "python",
   "pygments_lexer": "ipython3",
   "version": "3.9.13"
  }
 },
 "nbformat": 4,
 "nbformat_minor": 4
}
