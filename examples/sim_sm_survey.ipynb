{
 "cells": [
  {
   "cell_type": "code",
   "execution_count": 1,
   "id": "initial_id",
   "metadata": {
    "ExecuteTime": {
     "end_time": "2024-01-11T22:33:31.938369500Z",
     "start_time": "2024-01-11T22:33:29.277531800Z"
    }
   },
   "outputs": [],
   "source": [
    "import k3d\n",
    "import numpy as np\n",
    "from scipy import stats\n",
    "import scipy.optimize as optimize\n",
    "\n",
    "import sys\n",
    "sys.path.insert(0, \"..\")\n",
    "\n",
    "from Geometry.SM import SM"
   ]
  },
  {
   "cell_type": "code",
   "execution_count": 2,
   "id": "7cd251cf91207ed7",
   "metadata": {
    "ExecuteTime": {
     "end_time": "2024-01-07T04:15:57.717118100Z",
     "start_time": "2024-01-07T04:15:57.708277500Z"
    },
    "collapsed": false
   },
   "outputs": [],
   "source": [
    "# Simulate a survey of a supermodule\n",
    "\n",
    "# Define the survey room as a container of the supermodule. Convenient to define the room itself as a supermodule.\n",
    "\n",
    "class Room(SM):\n",
    "    # define a room containing a single supermodule\n",
    "\n",
    "    # select the supermodule type to be used in the survey by setting the index\n",
    "    super_module = {0:'bottom', 1:'barrel', 2:'top'}[0]\n",
    "\n",
    "    room_sms = []\n",
    "    # one supermodule in the room - its position and orientation are not well known\n",
    "    room_sms.append({'name': super_module, 'kind': super_module,\n",
    "                    'loc': [0., 0., 0.],\n",
    "                    'loc_sig': [100.0, 100.0, 30.0],\n",
    "                    'rot_axes': 'ZYX',\n",
    "                    'rot_angles': [0., 0., 0.],\n",
    "                    'rot_angles_sig': [0.02, 0.02, 0.04]})\n",
    "\n",
    "    SM.devices_design['room'] = room_sms\n",
    "    \n",
    "    # exaggerate the standard deviation of the placements of mpmts:\n",
    "    loc_sig = 3.0 # mm\n",
    "    rot_angle_sig = 0.02 # radians\n",
    "    \n",
    "    for mpmt in {'bottom': SM.bottom_mpmts, 'barrel':SM.barrel_mpmts, 'top':SM.top_mpmts}[super_module]:\n",
    "        mpmt['loc_sig'] = [loc_sig]*3\n",
    "        mpmt['rot_angles_sig'] = [rot_angle_sig]*3\n"
   ]
  },
  {
   "cell_type": "code",
   "execution_count": 3,
   "id": "35098800c0b8d0ae",
   "metadata": {
    "ExecuteTime": {
     "end_time": "2024-01-07T04:16:00.138162900Z",
     "start_time": "2024-01-07T04:15:59.981432Z"
    },
    "collapsed": false
   },
   "outputs": [],
   "source": [
    "# create the supermodule and place it in the room at a random location:\n",
    "\n",
    "my_room = Room('my_room', kind='room', device_type=SM)"
   ]
  },
  {
   "cell_type": "code",
   "execution_count": 4,
   "id": "db7028bc8e72e09f",
   "metadata": {
    "ExecuteTime": {
     "end_time": "2024-01-07T04:16:01.455610Z",
     "start_time": "2024-01-07T04:16:01.436329600Z"
    },
    "collapsed": false
   },
   "outputs": [
    {
     "name": "stdout",
     "output_type": "stream",
     "text": [
      "RMS of deviations of the true fiduical markers compared to design positions: 77.77 mm\n"
     ]
    }
   ],
   "source": [
    "# get the supermodule that is in the room \n",
    "\n",
    "sm = my_room.sms[0]\n",
    "\n",
    "# look at RMS of deviations of the true fiduical markers compared to design positions:\n",
    "sum2 = 0.\n",
    "for mpmt in sm.mpmts:\n",
    "    fiducials_true = mpmt.get_fiducials('true')\n",
    "    fiducials_design = mpmt.get_fiducials('design', sm) # we don't know the location of the SM in the room\n",
    "    for i in range(4):\n",
    "        diff = np.subtract(fiducials_true[i],fiducials_design[i])\n",
    "        sum2 += np.dot(diff,diff)\n",
    "rms = np.sqrt(sum2/(4*len(sm.mpmts)))\n",
    "print('RMS of deviations of the true fiduical markers compared to design positions: %.2f mm' % rms)"
   ]
  },
  {
   "cell_type": "code",
   "execution_count": 5,
   "id": "700c77e532514288",
   "metadata": {
    "ExecuteTime": {
     "end_time": "2024-01-07T04:16:05.138954900Z",
     "start_time": "2024-01-07T04:16:05.115220400Z"
    },
    "collapsed": false
   },
   "outputs": [
    {
     "name": "stdout",
     "output_type": "stream",
     "text": [
      "[array([ 173.32740244, -243.12260092,  -79.3052958 ]), array([-219.69019963, -233.81058539,  -74.28170822]), array([182.61432381, 149.92253822, -81.31956777]), array([-210.40327826,  159.23455375,  -76.2959802 ])]\n",
      "[array([ 196.58, -196.58,  -30.  ]), array([-196.58, -196.58,  -30.  ]), array([196.58, 196.58, -30.  ]), array([-196.58,  196.58,  -30.  ])]\n"
     ]
    }
   ],
   "source": [
    "print(sm.mpmts[0].get_fiducials('true'))\n",
    "print(sm.mpmts[0].get_fiducials('design', sm))"
   ]
  },
  {
   "cell_type": "code",
   "execution_count": 6,
   "id": "8cc10ff25d776583",
   "metadata": {
    "ExecuteTime": {
     "end_time": "2024-01-07T13:20:06.211429500Z",
     "start_time": "2024-01-07T13:20:06.201838700Z"
    },
    "collapsed": false
   },
   "outputs": [
    {
     "name": "stdout",
     "output_type": "stream",
     "text": [
      "true: {'location': [-19.21223793079177, -44.750123502954, -49.07459555657978], 'direction_x': [0.9992820744861418, -0.021455536496225624, -0.031224918964369085], 'direction_z': [0.031146403128285035, -0.00398402560533684, 0.9995068929788058]}\n",
      "est: {'location': [0.0, 0.0, 0.0], 'direction_x': [1.0, 0.0, 0.0], 'direction_z': [0.0, 0.0, 1.0]}\n"
     ]
    }
   ],
   "source": [
    "# reveal how the sm is placed in the room\n",
    "print('true:', sm.get_placement('true'))\n",
    "\n",
    "# initialize the estimated placement with the design value\n",
    "sm.place_est = sm.place_design.copy()\n",
    "print('est:', sm.get_placement('est'))"
   ]
  },
  {
   "cell_type": "code",
   "execution_count": 7,
   "id": "6044c721950acfe6",
   "metadata": {
    "ExecuteTime": {
     "end_time": "2024-01-07T04:42:16.685948800Z",
     "start_time": "2024-01-07T04:42:16.681491100Z"
    },
    "collapsed": false
   },
   "outputs": [],
   "source": [
    "# Simulate survey data by smearing the true positions of the fiducial markers\n",
    "# later try adding some data entry errors!\n",
    "\n",
    "survey_std = 0.5 # mm\n",
    "\n",
    "survey_sm_data = []\n",
    "for mpmt in sm.mpmts:\n",
    "    survey_mpmt_data = []\n",
    "    fiducials_true = mpmt.get_fiducials('true')\n",
    "    for fiducial_true in fiducials_true:\n",
    "        survey_mpmt_data.append(np.add(fiducial_true, stats.norm.rvs(0., survey_std, size=3)))\n",
    "    survey_sm_data.append(survey_mpmt_data)\n"
   ]
  },
  {
   "cell_type": "code",
   "execution_count": 8,
   "id": "d3835606d691e925",
   "metadata": {
    "ExecuteTime": {
     "end_time": "2024-01-07T13:58:18.317176500Z",
     "start_time": "2024-01-07T13:58:18.301758900Z"
    },
    "collapsed": false
   },
   "outputs": [],
   "source": [
    "# Combine the survey data to deduce the placement of the sm in the room (placement defined by 6 parameters: 3 locations and 3 rotations)\n",
    "# then use the survey data for each mpmt to deduce its placement within the sm\n",
    "\n",
    "# since some of the fiducials might not be measured in the actual survey, do not use their average for an mpmt to characterize the mpmt location\n",
    "# instead, calculate the RMS of all fiducials: first assuming mpmt are placed according to design (to find sm placement) then with sm placement do each mpmt\n",
    "# check if an additional iteration helps\n",
    "\n",
    "# Start with model that sets all estimated placements (for the sm wrt room and the mpmts wrt sm) to their design values: execute this to start over\n",
    "\n",
    "sm.place_est = sm.place_design.copy()\n",
    "for mpmt in sm.mpmts:\n",
    "    mpmt.place_est = mpmt.place_design.copy()"
   ]
  },
  {
   "cell_type": "code",
   "execution_count": 9,
   "id": "f13c09bb20a5d4aa",
   "metadata": {
    "ExecuteTime": {
     "end_time": "2024-01-07T14:15:28.970888500Z",
     "start_time": "2024-01-07T14:15:28.961330100Z"
    },
    "collapsed": false
   },
   "outputs": [],
   "source": [
    "# Calculate sum of squares of residuals for all fiducials in sm \n",
    "\n",
    "def calc_dev2_all():\n",
    "    sum2 = 0.\n",
    "    for i_mpmt, mpmt in enumerate(sm.mpmts):\n",
    "        fiducials_est = mpmt.get_fiducials('est')\n",
    "        for i in range(4):\n",
    "            diff = np.subtract(fiducials_est[i],survey_sm_data[i_mpmt][i])\n",
    "            sum2 += np.dot(diff,diff)\n",
    "    return sum2\n",
    "\n",
    "# Calculate sum of squares of residuals for the fiducials in the fit mpmt\n",
    "\n",
    "fit_mpmt = 0\n",
    "\n",
    "def calc_dev2_one():\n",
    "    sum2 = 0.\n",
    "    fiducials_est = sm.mpmts[fit_mpmt].get_fiducials('est')\n",
    "    for i in range(4):\n",
    "        diff = np.subtract(fiducials_est[i],survey_sm_data[fit_mpmt][i])\n",
    "        sum2 += np.dot(diff,diff)\n",
    "    return sum2\n",
    "\n",
    "# parameters specify the sm placement\n",
    "def calc_dev2_sm(params):\n",
    "    loc = [params[i] for i in range(3)]\n",
    "    rot_angles = [params[i] for i in range(3,6)]\n",
    "    sm.place_est['loc'] = loc\n",
    "    sm.place_est['rot_angles'] = rot_angles\n",
    "    \n",
    "    return calc_dev2_all()\n",
    "\n",
    "# parameters specify the fit_mpmt placement\n",
    "def calc_dev2_mpmt(params):\n",
    "    loc = [params[i] for i in range(3)]\n",
    "    rot_angles = [params[i] for i in range(3,6)]\n",
    "    sm.mpmts[fit_mpmt].place_est['loc'] = loc\n",
    "    sm.mpmts[fit_mpmt].place_est['rot_angles'] = rot_angles\n",
    "    \n",
    "    return calc_dev2_one()\n"
   ]
  },
  {
   "cell_type": "code",
   "execution_count": 10,
   "id": "5b4c2173e6a8556a",
   "metadata": {
    "ExecuteTime": {
     "end_time": "2024-01-07T14:26:05.016564800Z",
     "start_time": "2024-01-07T14:26:04.999104200Z"
    },
    "collapsed": false
   },
   "outputs": [
    {
     "name": "stdout",
     "output_type": "stream",
     "text": [
      "all: 77.80574193556808\n",
      "one: 66.55048174180155\n"
     ]
    }
   ],
   "source": [
    "sum2 = calc_dev2_all()\n",
    "print('all:',np.sqrt(sum2/(4*len(sm.mpmts))))\n",
    "\n",
    "sum2 = calc_dev2_one()\n",
    "print('one:',np.sqrt(sum2/4))"
   ]
  },
  {
   "cell_type": "code",
   "execution_count": 11,
   "id": "de2c7cb69b3dcc73",
   "metadata": {
    "ExecuteTime": {
     "end_time": "2024-01-07T14:26:30.085510500Z",
     "start_time": "2024-01-07T14:26:29.462628700Z"
    },
    "collapsed": false
   },
   "outputs": [
    {
     "name": "stdout",
     "output_type": "stream",
     "text": [
      "Desired error not necessarily achieved due to precision loss.\n",
      "true: {'location': [-19.21223793079177, -44.750123502954, -49.07459555657978], 'direction_x': [0.9992820744861418, -0.021455536496225624, -0.031224918964369085], 'direction_z': [0.031146403128285035, -0.00398402560533684, 0.9995068929788058]}\n",
      "est: {'location': [-18.91597019146774, -44.163158529835066, -49.8990715910163], 'direction_x': [0.9992620773608463, -0.022049051155929908, -0.031450597635168505], 'direction_z': [0.03138710842528338, -0.0032197197144078144, 0.9995021174713239]}\n",
      "rms of residuals: 8.786280164765344\n"
     ]
    }
   ],
   "source": [
    "# find optimal sm placement parameters - start from the current values stored in place_est\n",
    "start = sm.place_est['loc'] + sm.place_est['rot_angles']\n",
    "result = optimize.minimize(calc_dev2_sm, start)\n",
    "print(result.message)\n",
    "    \n",
    "print('true:', sm.get_placement('true'))\n",
    "print('est:', sm.get_placement('est'))\n",
    "\n",
    "sum2 = calc_dev2_all()\n",
    "print('rms of residuals:', np.sqrt(sum2/(4*len(sm.mpmts))))"
   ]
  },
  {
   "cell_type": "code",
   "execution_count": 12,
   "id": "668b57adf8cc1784",
   "metadata": {
    "ExecuteTime": {
     "end_time": "2024-01-07T14:27:20.617245600Z",
     "start_time": "2024-01-07T14:27:19.241208300Z"
    },
    "collapsed": false
   },
   "outputs": [
    {
     "name": "stdout",
     "output_type": "stream",
     "text": [
      "rms all: 0.6565746867441148\n"
     ]
    }
   ],
   "source": [
    "# find optimal mpmt placement parameters - start from the current values stored in place_est\n",
    "\n",
    "for fit_mpmt in range(len(sm.mpmts)):\n",
    "\n",
    "    start = list(sm.mpmts[fit_mpmt].place_est['loc']) + list(sm.mpmts[fit_mpmt].place_est['rot_angles'])\n",
    "    result = optimize.minimize(calc_dev2_mpmt, start)\n",
    "    \n",
    "    rms = np.sqrt(calc_dev2_one()/4.)\n",
    "    if rms > 1.:\n",
    "        print('mpmt', fit_mpmt, result.message)\n",
    "            \n",
    "        print('true:', sm.mpmts[fit_mpmt].get_placement('true'))\n",
    "        print('est:', sm.mpmts[fit_mpmt].get_placement('est'))\n",
    "        \n",
    "        print('rms of residuals:', rms)\n",
    "        \n",
    "sum2 = calc_dev2_all()\n",
    "print('rms all:',np.sqrt(sum2/(4*len(sm.mpmts))))"
   ]
  },
  {
   "cell_type": "code",
   "execution_count": 11,
   "id": "a1aa92679f7dda48",
   "metadata": {
    "collapsed": false
   },
   "outputs": [
    {
     "name": "stderr",
     "output_type": "stream",
     "text": [
      "C:\\Users\\Karlen\\AppData\\Local\\Programs\\Python\\Python39\\lib\\site-packages\\traittypes\\traittypes.py:97: UserWarning: Given trait value dtype \"float64\" does not match required type \"float32\". A coerced copy has been created.\n",
      "  warnings.warn(\n"
     ]
    },
    {
     "data": {
      "application/vnd.jupyter.widget-view+json": {
       "model_id": "6c200b58134847f9953da14d177e9d1b",
       "version_major": 2,
       "version_minor": 0
      },
      "text/plain": [
       "Output()"
      ]
     },
     "metadata": {},
     "output_type": "display_data"
    }
   ],
   "source": [
    "# Show in 3D the deviations between est and survey (or between est and true) to illustrate how survey optimization proceeds \n",
    "\n",
    "# to keep mpmt numbering consistent with the full WCTE detector, we need to add an offset\n",
    "first_mpmt = {'bottom':0, 'barrel':21, 'top':85}[sm.name]\n",
    "\n",
    "plot = k3d.plot()\n",
    "\n",
    "\n",
    "origins = []\n",
    "survey_vecs = []\n",
    "\n",
    "survey_scale = 1. # scale up the length of deviations\n",
    "color_survey = 0xff0000\n",
    "\n",
    "color_mpmt = 0xabb2b9\n",
    "n_point_mpmt = 8\n",
    "indices_mpmt = []\n",
    "for i in range(n_point_mpmt):\n",
    "    indices_mpmt.append([i,(i+1)%n_point_mpmt])\n",
    "\n",
    "n_point_ft = 20 # for feedthroughs and C holes\n",
    "indices_ft = []\n",
    "for i in range(n_point_ft):\n",
    "    indices_ft.append([i,(i+1)%n_point_ft])\n",
    "\n",
    "# draw the extent of the mpmt baseplates\n",
    "for i_mpmt,mpmt in enumerate(sm.mpmts):\n",
    "    \n",
    "    p = mpmt.get_placement('est')\n",
    "    location, direction_x, direction_z = p['location'], p['direction_x'], p['direction_z']\n",
    "\n",
    "    baseplate_points = np.array(mpmt.get_xy_points('est'),dtype=np.float32)\n",
    "    plt_baseplate = k3d.lines(baseplate_points, indices_mpmt, indices_type='segment', color=color_mpmt)\n",
    "    plot += plt_baseplate\n",
    "\n",
    "    feedthrough_points = np.array(mpmt.get_xy_points('est', feature='feedthrough'),dtype=np.float32)\n",
    "    plt_feedthrough = k3d.lines(feedthrough_points, indices_ft, indices_type='segment', color=color_mpmt)\n",
    "    plot += plt_feedthrough\n",
    "\n",
    "    # k3d complains about the following not being float32!\n",
    "    plt_text = k3d.text(str(i_mpmt+first_mpmt), position=location, reference_point='cc', size=1., label_box=False, color=color_mpmt)\n",
    "    plot += plt_text\n",
    "\n",
    "    # draw the fiducial points\n",
    "    fiducial_points = np.array(mpmt.get_fiducials('est'),dtype=np.float32)\n",
    "    for i_f, fiducial_point in enumerate(fiducial_points):\n",
    "        text_location = [fiducial_point[j] - 10.*direction_z[j] for j in range(3)]\n",
    "        plt_text = k3d.text('f'+str(i_f+1), position=text_location, reference_point='cc', size=1., label_box=False, color=color_mpmt)\n",
    "        plot += plt_text\n",
    "\n",
    "    fiducial_locations = np.array(fiducial_points, dtype=np.float32)\n",
    "    plt_fps = k3d.points(positions=fiducial_locations,\n",
    "                        point_size=8.,\n",
    "                        shader='3d',\n",
    "                        color=color_mpmt)\n",
    "    plot += plt_fps\n",
    "\n",
    "    # show the surveyed locations of the fiducial points\n",
    "    fiducial_survey = np.array(survey_sm_data[i_mpmt], dtype=np.float32)\n",
    "    plt_fs = k3d.points(positions=fiducial_survey,\n",
    "                        point_size=8.,\n",
    "                        shader='3d',\n",
    "                        color=color_survey)\n",
    "    plot += plt_fs\n",
    "    \n",
    "    # show a vector from the estimated to the surveyed\n",
    "    fiducials_est = mpmt.get_fiducials('est')\n",
    "    for i in range(4):\n",
    "        origins.append(fiducials_est[i])\n",
    "        diff = np.subtract(survey_sm_data[i_mpmt][i],fiducials_est[i])\n",
    "        scaled_diff = list(diff*survey_scale)\n",
    "        survey_vecs.append(scaled_diff)\n",
    "\n",
    "\n",
    "\n",
    "plt_survey_vecs = k3d.vectors(origins=origins, vectors=survey_vecs, color=color_survey, head_size=250.)\n",
    "plot += plt_survey_vecs\n",
    "\n",
    "plot.display()"
   ]
  },
  {
   "cell_type": "code",
   "execution_count": 20,
   "id": "84b546e8-1d77-4e7c-97b4-183df7098f6c",
   "metadata": {},
   "outputs": [],
   "source": [
    "# save the top level device (and thereby the entire geometry)\n",
    "my_room.save_file('my_room.geo')"
   ]
  },
  {
   "cell_type": "code",
   "execution_count": 21,
   "id": "2c1316fe-1016-43af-abf2-3b8e76f18fcd",
   "metadata": {},
   "outputs": [],
   "source": [
    "# read the saved device back again\n",
    "from Geometry.Device import Device\n",
    "new_room = Device.open_file('my_room.geo')"
   ]
  },
  {
   "cell_type": "code",
   "execution_count": 22,
   "id": "943c46b4-a69c-47f5-833b-d3a7bf726184",
   "metadata": {},
   "outputs": [
    {
     "data": {
      "text/plain": [
       "{'location': array([763.17552018, 577.1726509 , -48.17788806]),\n",
       " 'direction_x': array([ 0.03481244, -0.99861181,  0.03952902]),\n",
       " 'direction_z': array([0.06384471, 0.0416944 , 0.99708848])}"
      ]
     },
     "execution_count": 22,
     "metadata": {},
     "output_type": "execute_result"
    }
   ],
   "source": [
    "new_room.sms[0].mpmts[2].get_placement('est')"
   ]
  },
  {
   "cell_type": "code",
   "execution_count": null,
   "id": "4e34bf67-3c8b-4b1e-8262-57ff52913df2",
   "metadata": {},
   "outputs": [],
   "source": []
  }
 ],
 "metadata": {
  "kernelspec": {
   "display_name": "Python 3 (ipykernel)",
   "language": "python",
   "name": "python3"
  },
  "language_info": {
   "codemirror_mode": {
    "name": "ipython",
    "version": 3
   },
   "file_extension": ".py",
   "mimetype": "text/x-python",
   "name": "python",
   "nbconvert_exporter": "python",
   "pygments_lexer": "ipython3",
   "version": "3.9.13"
  }
 },
 "nbformat": 4,
 "nbformat_minor": 5
}
