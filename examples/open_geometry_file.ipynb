{
 "cells": [
  {
   "cell_type": "code",
   "id": "initial_id",
   "metadata": {
    "collapsed": true,
    "ExecuteTime": {
     "end_time": "2024-11-05T19:26:15.852042Z",
     "start_time": "2024-11-05T19:26:15.333885Z"
    }
   },
   "source": [
    "from Geometry.Device import Device\n",
    "import numpy as np\n",
    "import matplotlib.pyplot as plt\n"
   ],
   "outputs": [],
   "execution_count": 9
  },
  {
   "metadata": {},
   "cell_type": "code",
   "outputs": [],
   "execution_count": null,
   "source": [
    "hall = Device.open_file('wcte_bldg157.geo')\n",
    "wcte = hall.wcds[0]"
   ],
   "id": "c18dbb3ef0c8692d"
  },
  {
   "metadata": {
    "ExecuteTime": {
     "end_time": "2024-11-05T19:10:07.728602Z",
     "start_time": "2024-11-05T19:10:07.678124Z"
    }
   },
   "cell_type": "code",
   "source": [
    "# Compare the design and as-built locations ('est' is the as-built locations estimated from surveys):\n",
    "# The locations are reported in the top level container (the \"hall\")\n",
    "\n",
    "sum_dist = 0.\n",
    "n = 0\n",
    "for mpmt in wcte.mpmts:\n",
    "    if getattr(mpmt, 'place_est', None) is not None:\n",
    "        design_loc = np.array(mpmt.get_placement('design')['location'])\n",
    "        est_loc = np.array(mpmt.get_placement('est')['location'])\n",
    "        displacement = est_loc - design_loc\n",
    "    \n",
    "        sum_dist += np.sqrt(np.dot(displacement, displacement))\n",
    "        n += 1\n",
    "    \n",
    "mean_dist = sum_dist/n\n",
    "print(f'Mean displacement: {mean_dist:.2f} mm')    "
   ],
   "id": "4516e0eebc9f609c",
   "outputs": [
    {
     "name": "stdout",
     "output_type": "stream",
     "text": [
      "Mean displacement: 12.04 mm\n"
     ]
    }
   ],
   "execution_count": 5
  },
  {
   "metadata": {
    "ExecuteTime": {
     "end_time": "2024-11-05T19:27:21.463818Z",
     "start_time": "2024-11-05T19:27:13.488086Z"
    }
   },
   "cell_type": "code",
   "source": [
    "# Compare distances between random PMTs\n",
    "\n",
    "i_test = 0\n",
    "diffs = []\n",
    "\n",
    "while i_test < 10000:\n",
    "    mpmt1 = wcte.mpmts[np.random.randint(0, len(wcte.mpmts))]\n",
    "    mpmt2 = wcte.mpmts[np.random.randint(0, len(wcte.mpmts))]\n",
    "    if getattr(mpmt1, 'place_est', None) is None or getattr(mpmt2, 'place_est', None) is None:\n",
    "        continue\n",
    "    pmt1 = mpmt1.pmts[np.random.randint(0, len(mpmt1.pmts))]\n",
    "    pmt2 = mpmt2.pmts[np.random.randint(0, len(mpmt2.pmts))]\n",
    "    \n",
    "    design_loc1 = np.array(pmt1.get_placement('design')['location'])\n",
    "    est_loc1 = np.array(pmt1.get_placement('est')['location'])\n",
    "    \n",
    "    design_loc2 = np.array(pmt2.get_placement('design')['location'])\n",
    "    est_loc2 = np.array(pmt2.get_placement('est')['location'])\n",
    "    \n",
    "    design_displacement = design_loc2 - design_loc1\n",
    "    est_displacement = est_loc2 - est_loc1\n",
    "    \n",
    "    design_dist = np.sqrt(np.dot(design_displacement, design_displacement))\n",
    "    est_dist = np.sqrt(np.dot(est_displacement, est_displacement))\n",
    "\n",
    "    diffs.append(est_dist - design_dist)\n",
    "    \n",
    "    if i_test < 10:\n",
    "        print(f'Distance between PMTs {mpmt1.name}-{pmt1.name} and {mpmt2.name}-{pmt2.name}: Design: {design_dist:.2f} mm, As built: {est_dist:.2f} mm')\n",
    "    i_test += 1\n",
    "\n",
    "print(f'Mean difference: {np.mean(diffs):.2f} mm, standard deviation: {np.std(diffs):.2f} mm')\n"
   ],
   "id": "63bb91fb0fded65f",
   "outputs": [
    {
     "name": "stdout",
     "output_type": "stream",
     "text": [
      "Distance between PMTs 29-3 and 76-12: Design: 1814.27 mm, As built: 1815.67 mm\n",
      "Distance between PMTs 69-14 and 42-13: Design: 2771.35 mm, As built: 2759.42 mm\n",
      "Distance between PMTs 51-18 and 76-10: Design: 3284.18 mm, As built: 3273.94 mm\n",
      "Distance between PMTs 101-10 and 8-5: Design: 3215.56 mm, As built: 3215.62 mm\n",
      "Distance between PMTs 37-14 and 18-4: Design: 2234.28 mm, As built: 2227.51 mm\n",
      "Distance between PMTs 94-18 and 15-10: Design: 3607.20 mm, As built: 3594.23 mm\n",
      "Distance between PMTs 18-18 and 97-4: Design: 3488.78 mm, As built: 3486.26 mm\n",
      "Distance between PMTs 25-6 and 35-12: Design: 2699.81 mm, As built: 2692.08 mm\n",
      "Distance between PMTs 22-5 and 36-14: Design: 1052.23 mm, As built: 1048.52 mm\n",
      "Distance between PMTs 62-0 and 34-17: Design: 2435.71 mm, As built: 2427.50 mm\n",
      "Mean difference: -7.20 mm, standard deviation: 5.97 mm\n"
     ]
    }
   ],
   "execution_count": 12
  },
  {
   "metadata": {
    "ExecuteTime": {
     "end_time": "2024-11-05T19:27:26.499227Z",
     "start_time": "2024-11-05T19:27:26.367651Z"
    }
   },
   "cell_type": "code",
   "source": [
    "plt.hist(diffs, bins=20)\n",
    "plt.show()"
   ],
   "id": "3eec8bafe2892aa0",
   "outputs": [
    {
     "data": {
      "text/plain": [
       "<Figure size 640x480 with 1 Axes>"
      ],
      "image/png": "[encoded data removed]"
     },
     "metadata": {},
     "output_type": "display_data"
    }
   ],
   "execution_count": 13
  },
  {
   "metadata": {
    "ExecuteTime": {
     "end_time": "2024-11-05T19:35:55.198188Z",
     "start_time": "2024-11-05T19:35:55.177245Z"
    }
   },
   "cell_type": "code",
   "source": [
    "# Check mean locations for two rows of PMTs in the barrel\n",
    "\n",
    "for i_group, mpmt_group in enumerate([[38,39,40,41,42,43,44,46,47,48,49,50,51,52],range(53,69)]):\n",
    "    for place_info in ['design','est']:        \n",
    "        sum_loc = np.array([0.,0.,0.])\n",
    "    \n",
    "        for i_mpmt in mpmt_group:\n",
    "            p = wcte.mpmts[i_mpmt].get_placement(place_info,device_for_coordinate_system=hall)\n",
    "            sum_loc = np.add(sum_loc,p['location'])\n",
    "            \n",
    "        mean_location = sum_loc/14.\n",
    "        print(f'Row {i_group+2} mean location ({place_info}): [{mean_location[0]:.2f}, {mean_location[1]:.2f}, {mean_location[2]:.2f}] mm')"
   ],
   "id": "c672890fca171afb",
   "outputs": [
    {
     "name": "stdout",
     "output_type": "stream",
     "text": [
      "Row 2 mean location (design): [0.00, 0.00, -0.00] mm\n",
      "Row 2 mean location (est): [0.00, -0.00, -0.00] mm\n",
      "Row 3 mean location (design): [-0.00, 662.86, 0.00] mm\n",
      "Row 3 mean location (est): [-0.14, 662.34, 4.36] mm\n"
     ]
    }
   ],
   "execution_count": 17
  },
  {
   "metadata": {},
   "cell_type": "code",
   "outputs": [],
   "execution_count": null,
   "source": "",
   "id": "27fd60ba01afa104"
  }
 ],
 "metadata": {
  "kernelspec": {
   "display_name": "Python 3",
   "language": "python",
   "name": "python3"
  },
  "language_info": {
   "codemirror_mode": {
    "name": "ipython",
    "version": 2
   },
   "file_extension": ".py",
   "mimetype": "text/x-python",
   "name": "python",
   "nbconvert_exporter": "python",
   "pygments_lexer": "ipython2",
   "version": "2.7.6"
  }
 },
 "nbformat": 4,
 "nbformat_minor": 5
}
