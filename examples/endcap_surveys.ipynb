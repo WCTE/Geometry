{
 "cells": [
  {
   "cell_type": "code",
   "execution_count": 61,
   "id": "initial_id",
   "metadata": {
    "ExecuteTime": {
     "end_time": "2024-09-17T23:36:03.064599Z",
     "start_time": "2024-09-17T23:36:02.541868Z"
    }
   },
   "outputs": [],
   "source": [
    "import k3d\n",
    "import numpy as np\n",
    "from scipy import stats\n",
    "import scipy.optimize as optimize\n",
    "\n",
    "import sys\n",
    "sys.path.insert(0, \"..\")\n",
    "\n",
    "from Geometry.HALL import HALL\n",
    "from Geometry.SM import SM"
   ]
  },
  {
   "cell_type": "code",
   "execution_count": 88,
   "id": "20a5aabe38aa10e4",
   "metadata": {
    "ExecuteTime": {
     "end_time": "2024-09-17T23:41:19.145006Z",
     "start_time": "2024-09-17T23:41:19.125059Z"
    },
    "jupyter": {
     "outputs_hidden": false
    }
   },
   "outputs": [],
   "source": [
    "# Analyze the Sept 10 2024 surveys of the bottom and top supermodules in Bldg 157 (without cameras)\n",
    "# The mPMTs measured using a long extension - whose length is to be determined\n",
    "\n",
    "# Define the survey area as a Hall that contains the supermodules.\n",
    "\n",
    "class Room(HALL):\n",
    "    # define a room containing the two supermodules (Bldg 157)\n",
    "\n",
    "    # select the encap supermodule type to be used in the survey by setting the index\n",
    "    super_module = {0:'bottom', 1:'top'}[1]\n",
    "\n",
    "    room_sms = []\n",
    "    # one supermodule in the room - its position and orientation are not well known\n",
    "    # move the supermodule up by +/- 30 mm to match more closely the survey data as a starting point\n",
    "    room_sms.append({'name': super_module, 'kind': super_module,\n",
    "                    'loc': [0., 0., -30.],\n",
    "                    'loc_sig': [100.0, 100.0, 30.0],\n",
    "                    'rot_axes': 'ZYX',\n",
    "                    'rot_angles': [0., 0., 0.],\n",
    "                    'rot_angles_sig': [0.02, 0.02, 0.04]})\n",
    "\n",
    "    HALL.sms_design['room'] = room_sms"
   ]
  },
  {
   "cell_type": "code",
   "execution_count": 89,
   "id": "35098800c0b8d0ae",
   "metadata": {
    "ExecuteTime": {
     "end_time": "2024-09-17T23:41:21.686609Z",
     "start_time": "2024-09-17T23:41:21.240738Z"
    },
    "jupyter": {
     "outputs_hidden": false
    }
   },
   "outputs": [],
   "source": [
    "# create the supermodules and place them in the room:\n",
    "\n",
    "my_room = Room('my_room', kind='room', device_type=SM)"
   ]
  },
  {
   "cell_type": "code",
   "execution_count": 90,
   "id": "6fd28ec7180506b4",
   "metadata": {
    "ExecuteTime": {
     "end_time": "2024-09-17T23:36:18.825226Z",
     "start_time": "2024-09-17T23:36:18.794268Z"
    }
   },
   "outputs": [],
   "source": [
    "# Survey data: dictionary mpmt:c#:[x,y,z] in meters from survey group\n",
    "# The survey coordinate systems for the endcaps follow the WCTE conventions (apart from the origin)\n",
    "\n",
    "#bottom survey missing 11c2, 13c1\n",
    "bottom_survey_data = {\n",
    "    0:{1:[0.19633,0.19907,-0.00531],2:[0.19840,-0.19610,-0.00628],3:[-0.19668,0.19684,-0.00574],4:[-0.19504,-0.19801,-0.00708]},\n",
    "    1:{1:[0.77643,0.19933,-0.00081],2:[0.77862,-0.19605,-0.00190],3:[0.38301,0.19676,-0.00425],4:[0.38497,-0.19822,-0.00513]},\n",
    "    2:{1:[0.77884,0.77646,-0.00041],2:[0.77656,0.38046,-0.00056],3:[0.38401,0.77724,-0.00355],4:[0.38286,0.38257,-0.00400]},\n",
    "    3:{1:[-0.19700,0.38157,-0.00545],2:[-0.19668,0.77662,-0.00490],3:[0.19609,0.38030,-0.00537],4:[0.19741,0.77603,-0.00482]},\n",
    "    4:{1:[-0.77435,0.38145,-0.00242],2:[-0.77509,0.77477,-0.00112],3:[-0.38215,0.38064,-0.00480],4:[-0.38176,0.77404,-0.00430]},\n",
    "    5:{1:[-0.77469,-0.19898,-0.00479],2:[-0.77702,0.19498,-0.00317],3:[-0.38164,-0.19834,-0.00650],4:[-0.38331,0.19599,-0.00527]},\n",
    "    6:{1:[-0.77548,-0.77778,-0.00302],2:[-0.77685,-0.38311,-0.00485],3:[-0.38130,-0.77552,-0.00474],4:[-0.38341,-0.38115,-0.00651]},\n",
    "    7:{1:[-0.19509,-0.77918,-0.00456],2:[-0.19710,-0.38458,-0.00649],3:[0.19764,-0.77715,-0.00350],4:[0.19555,-0.38298,-0.00568]},\n",
    "    8:{1:[0.77654,-0.38117,-0.00151],2:[0.77660,-0.77629,0.00077],3:[0.38381,-0.38151,-0.00470],4:[0.38396,-0.77581,-0.00262]},\n",
    "    9:{1:[1.35823,0.19742,0.00895],2:[1.35660,-0.19742,0.00730],3:[0.96578,0.19843,0.00231],4:[0.96284,-0.19458,0.00100]},\n",
    "    10:{1:[1.35919,0.77375,0.00809],2:[1.35931,0.37968,0.00900],3:[0.96478,0.77511,0.00329],4:[0.96561,0.38061,0.00306]},\n",
    "    11:{1:[0.77821,1.35644,-0.00217],3:[0.38438,1.35576,-0.00557],4:[0.38424,0.96165,-0.00405]},\n",
    "    12:{1:[0.19983,1.35732,0.00340],2:[0.19990,0.96099,0.00498],3:[-0.19587,1.35669,0.00340],4:[-0.19587,0.96052,0.00488]},\n",
    "    13:{2:[-0.77507,1.35396,-0.00223],3:[-0.38110,0.96038,-0.00482],4:[-0.38151,1.35484,-0.00561],},\n",
    "    14:{1:[-1.35725,0.37871,0.01455],2:[-1.35729,0.77506,0.01443],3:[-0.96183,0.37892,0.00949],4:[-0.96161,0.77469,0.00948]},\n",
    "    15:{1:[-1.35806,-0.19744,0.00151],2:[-1.35677,0.19744,0.00419],3:[-0.96365,-0.19959,-0.00324],4:[-0.96250,0.19446,-0.00136]},\n",
    "    16:{1:[-1.35490,-0.78169,0.01301],2:[-1.35710,-0.38533,0.01122],3:[-0.95925,-0.77965,0.00845],4:[-0.96145,-0.38384,0.00658]},\n",
    "    17:{1:[-0.77479,-1.35591,-0.00469],2:[-0.77378,-0.96141,-0.00259],3:[-0.38126,-1.35588,-0.00638],4:[-0.38043,-0.96203,-0.00434]},\n",
    "    18:{1:[-0.19623,-1.35452,0.00359],2:[-0.19656,-0.95862,0.00576],3:[0.20011,-1.35454,0.00482],4:[0.19921,-0.95843,0.00671]},\n",
    "    19:{1:[0.77628,-0.96041,0.00244],2:[0.77744,-1.35405,0.00057],3:[0.38426,-0.96204,-0.00209],4:[0.38507,-1.35475,-0.00388]},\n",
    "    20:{1:[1.35738,-0.38175,0.00734],2:[1.35694,-0.77567,0.00970],3:[0.96625,-0.38191,0.00124],4:[0.96426,-0.77492,0.00359]}\n",
    "}\n",
    "\n",
    "top_survey_data = {\n",
    "    86:{1:[0.77278,-0.19588,-0.00395],2:[0.77300,0.19690,-0.00413],3:[0.38059,-0.19460,-0.00700],4:[0.38072,0.19785,-0.00723]},\n",
    "    87:{1:[0.77284,0.38029,-0.00355],2:[0.77194,0.77314,-0.00082],3:[0.38049,0.38228,-0.00657],4:[0.38178,0.77491,-0.00330]},\n",
    "    88:{1:[-0.19668,0.77315,-0.00351],2:[-0.19600,0.38044,-0.00657],3:[0.19433,0.77344,-0.00411],4:[0.19654,0.38157,-0.00741]},\n",
    "    89:{1:[-0.77328,0.77397,0.00084],2:[-0.77368,0.38184,-0.00208],3:[-0.38256,0.77431,-0.00281],4:[-0.38181,0.38064,-0.00551]},\n",
    "    90:{1:[-0.77359,0.19665,-0.00279],2:[-0.77403,-0.19556,-0.00406],3:[-0.38305,0.19622,-0.00631],4:[-0.38334,-0.19474,-0.00695]},\n",
    "    92:{1:[-0.19779,-0.37885,-0.00687],2:[-0.19699,-0.77165,-0.00398],3:[0.19429,-0.37853,-0.00681],4:[0.19526,-0.77188,-0.00388]},\n",
    "    93:{1:[0.77058,-0.77189,-0.00004],2:[0.77237,-0.37862,-0.00346],3:[0.37953,-0.77052,-0.00348],4:[0.37962,-0.37798,-0.00642]},\n",
    "    94:{1:[1.34929,-0.19660,0.00430],2:[1.35046,0.19660,0.00404],3:[0.95708,-0.19484,-0.00183],4:[0.95796,0.19765,-0.00195]},\n",
    "    95:{1:[1.35146,0.38186,0.00414],2:[1.34976,0.77492,0.00582],3:[0.95934,0.38063,-0.00152],4:[0.95904,0.77279,0.00111]},\n",
    "    96:{1:[0.77053,0.95847,0.00115],2:[0.77292,1.35110,0.00654],3:[0.38131,0.95792,-0.00112],4:[0.37947,1.35029,0.00581]},\n",
    "    97:{1:[-0.19666,1.34966,0.00680],2:[-0.19650,0.95746,-0.00132],3:[0.19508,1.35024,0.00582],4:[0.19503,0.95796,-0.00141]},\n",
    "    98:{1:[-0.77394,1.35104,0.01057],2:[-0.77434,0.96136,0.00321],3:[-0.38216,1.34978,0.00774],4:[-0.38246,0.95836,-0.00075]},\n",
    "    100:{1:[-1.34972,0.19618,0.00604],2:[-1.35004,-0.19618,0.00436],3:[-0.95954,0.19539,-0.00043],4:[-0.95953,-0.19610,-0.00194]},\n",
    "    101:{1:[-1.35234,-0.37987,0.00453],2:[-1.35199,-0.77395,0.00691],3:[-0.96021,-0.38057,-0.00159],4:[-0.96096,-0.77342,0.00162]},\n",
    "    102:{1:[-0.77303,-0.95934,0.00154],2:[-0.77378,-1.35271,0.00572],3:[-0.38239,-0.95773,-0.00161],4:[-0.37993,-1.35003,0.00447]},\n",
    "    103:{1:[-0.19819,-0.95817,-0.00195],2:[-0.19556,-1.35045,0.00445],3:[0.19362,-0.95622,-0.00191],4:[0.19632,-1.34792,0.00488]},\n",
    "    104:{1:[0.77352,-1.34842,0.00806],2:[0.77129,-0.95523,0.00211],3:[0.38093,-1.34816,0.00568],4:[0.38023,-0.95594,-0.00119]},\n",
    "    105:{1:[1.35231,-0.77031,0.00857],2:[1.35102,-0.37755,0.00485],3:[0.96006,-0.76920,0.00349],4:[0.95755,-0.37818,-0.00115]}\n",
    "}"
   ]
  },
  {
   "cell_type": "code",
   "execution_count": 91,
   "id": "db7028bc8e72e09f",
   "metadata": {
    "ExecuteTime": {
     "end_time": "2024-09-17T23:47:42.224842Z",
     "start_time": "2024-09-17T23:47:10.150245Z"
    },
    "jupyter": {
     "outputs_hidden": false
    }
   },
   "outputs": [
    {
     "name": "stdout",
     "output_type": "stream",
     "text": [
      "RMS of deviations of the true fiduical markers compared to design positions: 7.15 mm\n"
     ]
    }
   ],
   "source": [
    "# get the supermodule in the room \n",
    "\n",
    "sm = my_room.sms[0]\n",
    "survey_data = {'bottom':bottom_survey_data, 'top':top_survey_data}[sm.name]\n",
    "serial_offset = {'bottom':0, 'top':85}[sm.name]\n",
    "\n",
    "# look at RMS of deviations of the target positions from survey from the design positions\n",
    "\n",
    "sum2 = 0.\n",
    "for j_mpmt, mpmt in enumerate(sm.mpmts):\n",
    "    i_mpmt = j_mpmt + serial_offset\n",
    "    \n",
    "    #fiducials_design = mpmt.get_fiducials('design', sm) # we don't know the location of the SM in the room\n",
    "    fiducials_design = mpmt.get_fiducials('design', my_room) # or my_room?\n",
    "    for i in range(4):\n",
    "        survey_xyz = survey_data.get(i_mpmt,{}).get(i+1,None)\n",
    "        if survey_xyz is not None:\n",
    "            survey_location = np.array(survey_xyz)*1000. # convert to mm\n",
    "            diff = np.subtract(survey_location,fiducials_design[i])\n",
    "            sum2 += np.dot(diff,diff)\n",
    "rms = np.sqrt(sum2/(4*len(sm.mpmts)))\n",
    "print('RMS of deviations of the true fiduical markers compared to design positions: %.2f mm' % rms)"
   ]
  },
  {
   "cell_type": "code",
   "execution_count": 92,
   "id": "b931fb078a64f7d2",
   "metadata": {
    "ExecuteTime": {
     "end_time": "2024-09-18T00:00:27.672169Z",
     "start_time": "2024-09-18T00:00:27.657209Z"
    }
   },
   "outputs": [],
   "source": [
    "# Combine the survey data to deduce the placement of the sm in the room (placement defined by 6 parameters: 3 locations and 3 rotations)\n",
    "# then use the survey data for each mpmt to deduce its placement within the sm\n",
    "\n",
    "# since some of the fiducials might not be measured in the actual survey, do not use their average for an mpmt to characterize the mpmt location\n",
    "# instead, calculate the RMS of all fiducials: first assuming mpmt are placed according to design (to find sm placement) then with sm placement do each mpmt\n",
    "# check if an additional iteration helps\n",
    "\n",
    "# Start with model that sets all estimated placements (for the sm wrt room and the mpmts wrt sm) to their design values: execute this to start over\n",
    "\n",
    "sm.place_est = sm.place_design.copy()\n",
    "for mpmt in sm.mpmts:\n",
    "    mpmt.place_est = mpmt.place_design.copy()"
   ]
  },
  {
   "cell_type": "code",
   "execution_count": 93,
   "id": "f13c09bb20a5d4aa",
   "metadata": {
    "ExecuteTime": {
     "end_time": "2024-09-18T00:11:29.130763Z",
     "start_time": "2024-09-18T00:11:29.115742Z"
    },
    "jupyter": {
     "outputs_hidden": false
    }
   },
   "outputs": [],
   "source": [
    "# Calculate sum of squares of residuals for all fiducials in sm \n",
    "\n",
    "def calc_dev2_all():\n",
    "    sum2 = 0.\n",
    "    n = 0\n",
    "    for j_mpmt, mpmt in enumerate(sm.mpmts):\n",
    "        i_mpmt = j_mpmt + serial_offset\n",
    "        fiducials_est = mpmt.get_fiducials('est')\n",
    "        for i in range(4):\n",
    "            survey_xyz = survey_data.get(i_mpmt,{}).get(i+1,None)\n",
    "            if survey_xyz is not None:\n",
    "                survey_location = np.array(survey_xyz)*1000.\n",
    "                diff = np.subtract(fiducials_est[i],survey_location)\n",
    "                sum2 += np.dot(diff,diff)\n",
    "                n += 1\n",
    "    return n, sum2\n",
    "\n",
    "# Calculate sum of squares of residuals for the fiducials in the fit mpmt\n",
    "\n",
    "fit_mpmt = 1\n",
    "\n",
    "def calc_dev2_one():\n",
    "    sum2 = 0.\n",
    "    n = 0\n",
    "    fiducials_est = sm.mpmts[fit_mpmt].get_fiducials('est')\n",
    "    for i in range(4):\n",
    "        survey_xyz = survey_data.get(fit_mpmt+serial_offset,{}).get(i+1,None)\n",
    "        if survey_xyz is not None:\n",
    "            survey_location = np.array(survey_xyz)*1000.\n",
    "            diff = np.subtract(fiducials_est[i],survey_location)\n",
    "            sum2 += np.dot(diff,diff)\n",
    "            n += 1\n",
    "    return n, sum2\n",
    "\n",
    "# parameters specify the sm placement\n",
    "def calc_dev2_sm(params):\n",
    "    loc = [params[i] for i in range(3)]\n",
    "    rot_angles = [params[i] for i in range(3,6)]\n",
    "    sm.place_est['loc'] = loc\n",
    "    sm.place_est['rot_angles'] = rot_angles\n",
    "    \n",
    "    n, sum2 = calc_dev2_all()\n",
    "    return sum2\n",
    "\n",
    "# parameters specify the fit_mpmt placement\n",
    "def calc_dev2_mpmt(params):\n",
    "    loc = [params[i] for i in range(3)]\n",
    "    rot_angles = [params[i] for i in range(3,6)]\n",
    "    sm.mpmts[fit_mpmt].place_est['loc'] = loc\n",
    "    sm.mpmts[fit_mpmt].place_est['rot_angles'] = rot_angles\n",
    "    \n",
    "    n, sum2 = calc_dev2_one()\n",
    "    return sum2\n"
   ]
  },
  {
   "cell_type": "code",
   "execution_count": 97,
   "id": "9076684b",
   "metadata": {},
   "outputs": [
    {
     "name": "stdout",
     "output_type": "stream",
     "text": [
      "0.9163434130786052 0.5959444090882065 0.20910889077604544\n"
     ]
    }
   ],
   "source": [
    "# calculate x,y,z separately:\n",
    "sum2 = [0.,0.,0.]\n",
    "n = 0\n",
    "for j_mpmt, mpmt in enumerate(sm.mpmts):\n",
    "    i_mpmt = j_mpmt + serial_offset\n",
    "    fiducials_est = mpmt.get_fiducials('est')\n",
    "    for i in range(4):\n",
    "        survey_xyz = survey_data.get(i_mpmt,{}).get(i+1,None)\n",
    "        if survey_xyz is not None:\n",
    "            survey_location = np.array(survey_xyz)*1000.\n",
    "            diff = np.subtract(fiducials_est[i],survey_location)\n",
    "            for j in range(3):\n",
    "                sum2[j] += diff[j]*diff[j]\n",
    "            n += 1\n",
    "print(np.sqrt(sum2[0]/n),np.sqrt(sum2[1]/n),np.sqrt(sum2[2]/n))"
   ]
  },
  {
   "cell_type": "code",
   "execution_count": 94,
   "id": "5b4c2173e6a8556a",
   "metadata": {
    "ExecuteTime": {
     "end_time": "2024-09-18T00:11:31.179899Z",
     "start_time": "2024-09-18T00:11:31.156893Z"
    },
    "jupyter": {
     "outputs_hidden": false
    }
   },
   "outputs": [
    {
     "name": "stdout",
     "output_type": "stream",
     "text": [
      "all: 7.726712323707468\n",
      "one: 6.75672442830104\n"
     ]
    }
   ],
   "source": [
    "n, sum2 = calc_dev2_all()\n",
    "print('all:',np.sqrt(sum2/n))\n",
    "\n",
    "n, sum2 = calc_dev2_one()\n",
    "print('one:',np.sqrt(sum2/n))"
   ]
  },
  {
   "cell_type": "code",
   "execution_count": 95,
   "id": "5f0cb2567301d0b1",
   "metadata": {
    "ExecuteTime": {
     "end_time": "2024-09-18T00:12:34.385817Z",
     "start_time": "2024-09-18T00:12:33.341441Z"
    }
   },
   "outputs": [
    {
     "name": "stdout",
     "output_type": "stream",
     "text": [
      "Desired error not necessarily achieved due to precision loss.\n",
      "est: {'location': [-1.1303429584290283, 0.806735476588154, -31.401922422970948], 'direction_x': [0.9999993630725105, 0.00031664034535177423, 0.001083325188981048], 'direction_z': [-0.0010832101117545553, -0.0003633778026970611, 0.9999993473060002]}\n",
      "rms of residuals: 7.422603579001074\n"
     ]
    }
   ],
   "source": [
    "# find optimal sm placement parameters - start from the current values stored in place_est\n",
    "start = sm.place_est['loc'] + sm.place_est['rot_angles']\n",
    "result = optimize.minimize(calc_dev2_sm, start)\n",
    "print(result.message)\n",
    "    \n",
    "print('est:', sm.get_placement('est'))\n",
    "\n",
    "n, sum2 = calc_dev2_all()\n",
    "print('rms of residuals:', np.sqrt(sum2/n))"
   ]
  },
  {
   "cell_type": "code",
   "execution_count": 96,
   "id": "b01d88d177779c61",
   "metadata": {
    "ExecuteTime": {
     "end_time": "2024-09-18T00:14:02.346741Z",
     "start_time": "2024-09-18T00:13:59.572166Z"
    }
   },
   "outputs": [
    {
     "name": "stdout",
     "output_type": "stream",
     "text": [
      "mpmt 2 Desired error not necessarily achieved due to precision loss.\n",
      "est: {'location': [576.9744494525135, 577.8840414670686, -33.55837627485508], 'direction_x': [-0.9999716111853307, 0.0026736475543646075, -0.007044745003821545], 'direction_z': [0.007064976999503191, 0.0076347276167803135, -0.9999458970535428]}\n",
      "rms of residuals: 1.2669854672543877\n",
      "mpmt 4 Desired error not necessarily achieved due to precision loss.\n",
      "est: {'location': [-578.1036526912036, 577.90442340419, -32.388008065085074], 'direction_x': [0.999959088644003, -0.00029279935940962836, -0.009040758087159482], 'direction_z': [-0.009038434864003199, 0.00714743909729123, -0.9999336082008443]}\n",
      "rms of residuals: 1.074185064460581\n",
      "mpmt 5 Desired error not necessarily achieved due to precision loss.\n",
      "est: {'location': [-578.7486781047179, 0.7158913559112966, -35.02640016377603], 'direction_x': [0.9999663048726825, -0.00020730335551893893, -0.00820646967899958], 'direction_z': [-0.00820593817747863, 0.002446358729527048, -0.9999633382817561]}\n",
      "rms of residuals: 1.5439438139359163\n",
      "mpmt 10 Desired error not necessarily achieved due to precision loss.\n",
      "est: {'location': [1155.2966455801343, 577.7156630987121, -27.60942129768263], 'direction_x': [-0.9999066242782056, -0.0033815636903148064, -0.013240383361964805], 'direction_z': [0.013221585627181872, 0.00552202936837489, -0.999897343163366]}\n",
      "rms of residuals: 1.0445497795558334\n",
      "mpmt 11 Desired error not necessarily achieved due to precision loss.\n",
      "est: {'location': [576.171656588628, 1154.9156859925756, -26.90109001352384], 'direction_x': [-0.9999926105450391, -0.00048679184266120474, -0.0038133828839622885], 'direction_z': [0.0038052764550366193, 0.015689561755721115, -0.9998696702685876]}\n",
      "rms of residuals: 1.521171425883343\n",
      "mpmt 13 Desired error not necessarily achieved due to precision loss.\n",
      "est: {'location': [-578.4815633640349, 1155.7438389125734, -24.800222346259716], 'direction_x': [0.9999581268624883, -0.0030826986095712546, -0.008616350210284939], 'direction_z': [-0.008552056309086993, 0.020294634581205173, -0.9997574656585974]}\n",
      "rms of residuals: 1.6508281783108747\n",
      "mpmt 15 Desired error not necessarily achieved due to precision loss.\n",
      "est: {'location': [-1155.1980391135364, -0.0552330604332838, -27.988240544122437], 'direction_x': [0.9998660737873054, -0.0006185448014018773, -0.01635395644751725], 'direction_z': [-0.0163513031893649, 0.004075538181066318, -0.9998580023546064]}\n",
      "rms of residuals: 1.5328733614641967\n",
      "mpmt 17 Desired error not necessarily achieved due to precision loss.\n",
      "est: {'location': [-577.4486000834473, -1155.34458973282, -27.466977412689083], 'direction_x': [0.9999772324517816, 0.0037847518903708984, -0.00558661178210114], 'direction_z': [-0.005536709618277201, -0.013069660464771007, -0.9998992593366286]}\n",
      "rms of residuals: 1.1766780949109357\n",
      "mpmt 20 Desired error not necessarily achieved due to precision loss.\n",
      "est: {'location': [1155.6577899880747, -574.1278874045826, -26.055336626397725], 'direction_x': [-0.9998986061352707, -0.002189830815842697, -0.014070610851728059], 'direction_z': [0.014093056417111713, -0.01059626505029428, -0.9998445403800572]}\n",
      "rms of residuals: 1.1598029107500951\n",
      "rms all: 1.1129067874793588\n"
     ]
    }
   ],
   "source": [
    "# find optimal mpmt placement parameters - start from the current values stored in place_est\n",
    "\n",
    "for fit_mpmt in range(len(sm.mpmts)):\n",
    "\n",
    "    start = list(sm.mpmts[fit_mpmt].place_est['loc']) + list(sm.mpmts[fit_mpmt].place_est['rot_angles'])\n",
    "    result = optimize.minimize(calc_dev2_mpmt, start)\n",
    "    \n",
    "    n, sum2 = calc_dev2_one()\n",
    "    if n>1:\n",
    "        rms = np.sqrt(sum2/n)\n",
    "        if rms > 1.:\n",
    "            print('mpmt', fit_mpmt, result.message)\n",
    "            print('est:', sm.mpmts[fit_mpmt].get_placement('est'))       \n",
    "            print('rms of residuals:', rms)\n",
    "\n",
    "n, sum2 = calc_dev2_all()\n",
    "print('rms all:',np.sqrt(sum2/n))"
   ]
  },
  {
   "cell_type": "code",
   "execution_count": 84,
   "id": "b67350859a8f7bb4",
   "metadata": {},
   "outputs": [
    {
     "data": {
      "application/vnd.jupyter.widget-view+json": {
       "model_id": "b82b255ec7fa483598346dc5bf77fc53",
       "version_major": 2,
       "version_minor": 0
      },
      "text/plain": [
       "Output()"
      ]
     },
     "metadata": {},
     "output_type": "display_data"
    }
   ],
   "source": [
    "# Show in 3D the deviations between est and survey (or between est and true) to illustrate how survey optimization proceeds \n",
    "\n",
    "# to keep mpmt numbering consistent with the full WCTE detector, we need to add an offset\n",
    "first_mpmt = {'bottom':0, 'barrel':21, 'top':85}[sm.name]\n",
    "\n",
    "plot = k3d.plot()\n",
    "\n",
    "origins = []\n",
    "survey_vecs = []\n",
    "\n",
    "survey_scale = 100. # scale up the length of deviations\n",
    "color_survey = 0xff0000\n",
    "\n",
    "color_mpmt = 0xabb2b9\n",
    "n_point_mpmt = 8\n",
    "indices_mpmt = []\n",
    "for i in range(n_point_mpmt):\n",
    "    indices_mpmt.append([i,(i+1)%n_point_mpmt])\n",
    "\n",
    "n_fd_point_mpmt = 40\n",
    "fd_indices_mpmt = []\n",
    "for i in range(n_fd_point_mpmt):\n",
    "    fd_indices_mpmt.append([i,(i+1)%n_fd_point_mpmt])\n",
    "    \n",
    "n_point_ft = 20 # for feedthroughs and C holes\n",
    "indices_ft = []\n",
    "for i in range(n_point_ft):\n",
    "    indices_ft.append([i,(i+1)%n_point_ft])\n",
    "\n",
    "# draw the extent of the mpmt baseplates\n",
    "for i_mpmt,mpmt in enumerate(sm.mpmts):\n",
    "    \n",
    "    p = mpmt.get_placement('est')\n",
    "    location, direction_x, direction_z = p['location'], p['direction_x'], p['direction_z']\n",
    "\n",
    "    baseplate_points = np.array(mpmt.get_xy_points('design'),dtype=np.float32)\n",
    "    color = color_mpmt\n",
    "\n",
    "    indices = indices_mpmt\n",
    "    if mpmt.kind == 'FD':\n",
    "        indices = fd_indices_mpmt\n",
    "        \n",
    "    plt_baseplate = k3d.lines(baseplate_points, indices, indices_type='segment', color=color)\n",
    "    plot += plt_baseplate\n",
    "    \n",
    "    if mpmt.kind != 'FD':\n",
    "        feedthrough_points = np.array(mpmt.get_xy_points('design', feature='feedthrough'),dtype=np.float32)\n",
    "        plt_feedthrough = k3d.lines(feedthrough_points, indices_ft, indices_type='segment', color=color_mpmt)\n",
    "        plot += plt_feedthrough\n",
    "    else:\n",
    "        feedthrough1_points = np.array(mpmt.get_xy_points('design', feature='fd_feedthrough1'),dtype=np.float32)\n",
    "        plt_feedthrough1 = k3d.lines(feedthrough1_points, indices_ft, indices_type='segment', color=color_mpmt)\n",
    "        plot += plt_feedthrough1\n",
    "        feedthrough2_points = np.array(mpmt.get_xy_points('design', feature='fd_feedthrough2'),dtype=np.float32)\n",
    "        plt_feedthrough2 = k3d.lines(feedthrough2_points, indices_ft, indices_type='segment', color=color_mpmt)\n",
    "        plot += plt_feedthrough2\n",
    "\n",
    "    # k3d complains about the following not being float32!\n",
    "    plt_text = k3d.text(str(i_mpmt+first_mpmt), position=location, reference_point='cc', size=1., label_box=False, color=color_mpmt)\n",
    "    plot += plt_text\n",
    "\n",
    "    # draw the fiducial points\n",
    "    fiducial_points = np.array(mpmt.get_fiducials('est'),dtype=np.float32)\n",
    "    for i_f, fiducial_point in enumerate(fiducial_points):\n",
    "        text_location = [fiducial_point[j] - 10.*direction_z[j] for j in range(3)]\n",
    "        plt_text = k3d.text('f'+str(i_f+1), position=text_location, reference_point='cc', size=1., label_box=False, color=color_mpmt)\n",
    "        plot += plt_text\n",
    "\n",
    "    fiducial_locations = np.array(fiducial_points, dtype=np.float32)\n",
    "    plt_fps = k3d.points(positions=fiducial_locations,\n",
    "                        point_size=8.,\n",
    "                        shader='3d',\n",
    "                        color=color_mpmt)\n",
    "    plot += plt_fps\n",
    "\n",
    "    # show the surveyed locations of the fiducial points\n",
    "    fiducial_survey = []\n",
    "    for i in range(4):\n",
    "        survey_xyz = survey_data.get(i_mpmt+first_mpmt,{}).get(i+1,None)\n",
    "        if survey_xyz is not None:\n",
    "            fiducial_survey.append(np.array(survey_xyz)*1000.)\n",
    "        \n",
    "    fiducial_survey = np.array(fiducial_survey, dtype=np.float32)\n",
    "    plt_fs = k3d.points(positions=fiducial_survey,\n",
    "                        point_size=8.,\n",
    "                        shader='3d',\n",
    "                        color=color_survey)\n",
    "    plot += plt_fs\n",
    "    \n",
    "    # show a vector from the estimated to the surveyed\n",
    "    fiducials_est = mpmt.get_fiducials('est')\n",
    "    for i in range(4):\n",
    "        survey_xyz = survey_data.get(i_mpmt+first_mpmt,{}).get(i+1,None)\n",
    "        if survey_xyz is not None:\n",
    "            survey_location = np.array(survey_xyz)*1000.\n",
    "            \n",
    "            origins.append(fiducials_est[i])\n",
    "            diff = np.subtract(survey_location,fiducials_est[i])\n",
    "            scaled_diff = list(diff*survey_scale)\n",
    "            survey_vecs.append(scaled_diff)\n",
    "\n",
    "plt_survey_vecs = k3d.vectors(origins=origins, vectors=survey_vecs, color=color_survey, head_size=250.)\n",
    "plot += plt_survey_vecs\n",
    "\n",
    "plot.display()"
   ]
  },
  {
   "cell_type": "code",
   "execution_count": null,
   "id": "4e34bf67-3c8b-4b1e-8262-57ff52913df2",
   "metadata": {},
   "outputs": [],
   "source": []
  }
 ],
 "metadata": {
  "kernelspec": {
   "display_name": "Python 3 (ipykernel)",
   "language": "python",
   "name": "python3"
  },
  "language_info": {
   "codemirror_mode": {
    "name": "ipython",
    "version": 3
   },
   "file_extension": ".py",
   "mimetype": "text/x-python",
   "name": "python",
   "nbconvert_exporter": "python",
   "pygments_lexer": "ipython3",
   "version": "3.9.5"
  }
 },
 "nbformat": 4,
 "nbformat_minor": 5
}
