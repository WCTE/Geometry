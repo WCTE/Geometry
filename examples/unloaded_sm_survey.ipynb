{
 "cells": [
  {
   "cell_type": "code",
   "execution_count": null,
   "id": "initial_id",
   "metadata": {
    "ExecuteTime": {
     "end_time": "2024-07-30T17:20:15.334296Z",
     "start_time": "2024-07-30T17:20:15.322329Z"
    }
   },
   "outputs": [],
   "source": [
    "import k3d\n",
    "import numpy as np\n",
    "from scipy import stats\n",
    "import scipy.optimize as optimize\n",
    "\n",
    "import sys\n",
    "sys.path.insert(0, \"..\")\n",
    "\n",
    "from Geometry.HALL import HALL\n",
    "from Geometry.SM import SM"
   ]
  },
  {
   "cell_type": "code",
   "execution_count": null,
   "id": "20a5aabe38aa10e4",
   "metadata": {
    "ExecuteTime": {
     "end_time": "2024-07-30T00:14:19.575556Z",
     "start_time": "2024-07-30T00:14:19.562625Z"
    },
    "jupyter": {
     "outputs_hidden": false
    }
   },
   "outputs": [],
   "source": [
    "# Analyze the July 10 2024 survey of the unloaded structure, using temporary bar ends (bottom and top supermodules)\n",
    "\n",
    "# Define the survey area as a Hall that contains the supermodules.\n",
    "\n",
    "class Room(HALL):\n",
    "    # define a room containing the two supermodules (Bldg 157)\n",
    "\n",
    "    # select the supermodule types used in the survey by setting the index\n",
    "    super_modules = ['bottom','top']\n",
    "\n",
    "    room_sms = []\n",
    "    # place each supermodule in the room - its position and orientation placed roughly as indicated by the survey report\n",
    "    # The survey team used the following cartesian coordinate system (rotated by about 90 degrees around the z axis):\n",
    "    #  * same z axis as the WCTE SM coordinate systems\n",
    "    #  * x axis is approximately parallel to the negative y axis of the WCTE SM coordinate systems\n",
    "    #  * y axis is approximately parallel to the positive x axis of the WCTE SM coordinate systems\n",
    "    # * the origin is at the centre of the overall support structure: \n",
    "    #  * the survey has the average z coordinate of targets at +/- 1533.9\n",
    "    #  * this needs to be reduced by 75 mm to refer to the origin of the endcap super modules\n",
    "    \n",
    "    \n",
    "    room_sms.append({'name': super_modules[0], 'kind': super_modules[0],\n",
    "                    'loc': [0., 0., -1533.9 + 75],\n",
    "                    'loc_sig': [10.0, 10.0, 10.0],\n",
    "                    'rot_axes': 'ZYX',\n",
    "                    'rot_angles': [np.pi/2., 0., 0.],\n",
    "                    'rot_angles_sig': [0.2, 0.2, 0.2]})\n",
    "    \n",
    "    room_sms.append({'name': super_modules[1], 'kind': super_modules[1],\n",
    "                    'loc': [0., 0., 1533.9 + 75],\n",
    "                    'loc_sig': [10.0, 10.0, 10.0],\n",
    "                    'rot_axes': 'ZYX',\n",
    "                    'rot_angles': [np.pi/2., 0., 0.],\n",
    "                    'rot_angles_sig': [0.2, 0.2, 0.2]})\n",
    "\n",
    "    HALL.sms_design['room'] = room_sms\n"
   ]
  },
  {
   "cell_type": "code",
   "execution_count": null,
   "id": "35098800c0b8d0ae",
   "metadata": {
    "ExecuteTime": {
     "end_time": "2024-07-30T00:14:34.342429Z",
     "start_time": "2024-07-30T00:14:33.790904Z"
    },
    "jupyter": {
     "outputs_hidden": false
    }
   },
   "outputs": [],
   "source": [
    "# create the supermodules and place them in the room:\n",
    "\n",
    "my_room = Room('my_room', kind='room', device_type=SM)"
   ]
  },
  {
   "cell_type": "code",
   "execution_count": null,
   "id": "6fd28ec7180506b4",
   "metadata": {
    "ExecuteTime": {
     "end_time": "2024-07-30T00:28:28.344957Z",
     "start_time": "2024-07-30T00:28:28.324011Z"
    }
   },
   "outputs": [],
   "source": [
    "# Survey data:\n",
    "\n",
    "bottom_survey_data = [\n",
    "    [-0.1624, 1.8477, -1.5343],\n",
    "    [-0.7565, 1.6171, -1.5380],\n",
    "    [-1.3720, 1.1060, -1.5365],\n",
    "    [-1.8076, 0.4134, -1.5342],\n",
    "    [-1.8471, -0.1635, -1.5335],\n",
    "    [-1.5121, -0.9076, -1.5351],\n",
    "    [-0.9715, -1.5021, -1.5381],\n",
    "    [-0.4117, -1.8107, -1.5359],\n",
    "    [0.1650, -1.8511, -1.5382],\n",
    "    [0.7630, -1.6198, -1.5377],\n",
    "    [1.3775, -1.1036, -1.5380],\n",
    "    [1.8066, -0.4132, -1.5347],\n",
    "    [1.8482, 0.1634, -1.5331],\n",
    "    [1.5151, 0.9098, -1.5366],\n",
    "    [0.9734, 1.5000, -1.5364],\n",
    "    [0.4152, 1.8077, -1.5347]\n",
    "]\n",
    "\n",
    "top_survey_data = [\n",
    "    [-0.1552, 1.8479, 1.5320],\n",
    "    [-0.7513, 1.6222, 1.5309],\n",
    "    [-1.3690, 1.1121, 1.5306],\n",
    "    [-1.8045, 0.4225, 1.5335],\n",
    "    [-1.8470, -0.1552, 1.5349],\n",
    "    [-1.5167, -0.8991, 1.5324],\n",
    "    [-0.9799, -1.4966, 1.5313],\n",
    "    [-0.4224, -1.8080, 1.5301],\n",
    "    [0.1562, -1.8515, 1.5286],\n",
    "    [0.7548, -1.6242, 1.5312],\n",
    "    [1.3698, -1.1107, 1.5289],\n",
    "    [1.8045, -0.4217, 1.5336],\n",
    "    [1.8470, 0.1544, 1.5334],\n",
    "    [1.5171, 0.9020, 1.5311],\n",
    "    [0.9828, 1.4930, 1.5344],\n",
    "    [0.4220, 1.8044, 1.5320]\n",
    "    ]"
   ]
  },
  {
   "cell_type": "code",
   "execution_count": null,
   "id": "db7028bc8e72e09f",
   "metadata": {
    "ExecuteTime": {
     "end_time": "2024-07-30T00:51:17.949163Z",
     "start_time": "2024-07-30T00:51:17.941186Z"
    },
    "jupyter": {
     "outputs_hidden": false
    }
   },
   "outputs": [],
   "source": [
    "# get one supermodule in the room \n",
    "\n",
    "ism = 0\n",
    "sm = my_room.sms[ism]\n",
    "survey_data = [bottom_survey_data, top_survey_data][ism]\n",
    "\n",
    "# look at RMS of deviations of the target positions from survey from the design positions\n",
    "\n",
    "sum2 = 0.\n",
    "for i_target, target in enumerate(sm.targets):\n",
    "    p = target.get_placement('design')\n",
    "    location, direction_z = p['location'], p['direction_z']\n",
    "\n",
    "    survey_location = np.array(survey_data[i_target])*1000. # convert to mm\n",
    "    diff = np.subtract(location,survey_location)\n",
    "    sum2 += np.dot(diff,diff)\n",
    "rms = np.sqrt(sum2/len(sm.targets))\n",
    "print('RMS of deviations of the true target positions compared to survey positions: %.2f mm' % rms)\n"
   ]
  },
  {
   "cell_type": "code",
   "execution_count": null,
   "id": "c83d47eb",
   "metadata": {},
   "outputs": [],
   "source": [
    "# reveal how the sm is placed in the room\n",
    "print('true:', sm.get_placement('true'))\n",
    "\n",
    "# initialize the estimated placements with the design values\n",
    "sm.place_est = sm.place_design.copy()\n",
    "print('est:', sm.get_placement('est'))\n",
    "\n",
    "for target in sm.targets:\n",
    "    target.place_est = target.place_design.copy()\n",
    "    \n",
    "for mpmt in sm.mpmts:\n",
    "    mpmt.place_est = mpmt.place_design.copy()"
   ]
  },
  {
   "cell_type": "code",
   "execution_count": null,
   "id": "f13c09bb20a5d4aa",
   "metadata": {
    "ExecuteTime": {
     "end_time": "2024-01-07T14:15:28.970888500Z",
     "start_time": "2024-01-07T14:15:28.961330100Z"
    },
    "jupyter": {
     "outputs_hidden": false
    }
   },
   "outputs": [],
   "source": [
    "# Calculate sum of squares of residuals for all targets in sm \n",
    "\n",
    "def calc_dev2_all():\n",
    "    sum2 = 0.\n",
    "    for i_target, target in enumerate(sm.targets):\n",
    "        p = target.get_placement('est')\n",
    "        location, direction_z = p['location'], p['direction_z']\n",
    "\n",
    "        survey_location = np.array(survey_data[i_target])*1000. # convert to mm\n",
    "        diff = np.subtract(location,survey_location)\n",
    "        sum2 += np.dot(diff,diff)\n",
    "    return sum2\n",
    "\n",
    "# parameters specify the sm placement\n",
    "def calc_dev2_sm(params):\n",
    "    loc = [params[i] for i in range(3)]\n",
    "    rot_angles = [params[i] for i in range(3,6)]\n",
    "    sm.place_est['loc'] = loc\n",
    "    sm.place_est['rot_angles'] = rot_angles\n",
    "    \n",
    "    return calc_dev2_all()\n"
   ]
  },
  {
   "cell_type": "code",
   "execution_count": null,
   "id": "5b4c2173e6a8556a",
   "metadata": {
    "ExecuteTime": {
     "end_time": "2024-01-07T14:26:05.016564800Z",
     "start_time": "2024-01-07T14:26:04.999104200Z"
    },
    "jupyter": {
     "outputs_hidden": false
    }
   },
   "outputs": [],
   "source": [
    "sum2 = calc_dev2_all()\n",
    "print('all:',np.sqrt(sum2/len(sm.targets)))\n",
    "print('est:', sm.get_placement('est'))"
   ]
  },
  {
   "cell_type": "code",
   "execution_count": null,
   "id": "de2c7cb69b3dcc73",
   "metadata": {
    "ExecuteTime": {
     "end_time": "2024-01-07T14:26:30.085510500Z",
     "start_time": "2024-01-07T14:26:29.462628700Z"
    },
    "jupyter": {
     "outputs_hidden": false
    }
   },
   "outputs": [],
   "source": [
    "# find optimal sm placement parameters - start from the current values stored in place_est\n",
    "start = sm.place_est['loc'] + sm.place_est['rot_angles']\n",
    "result = optimize.minimize(calc_dev2_sm, start)\n",
    "print(result.message)\n",
    "    \n",
    "print('true:', sm.get_placement('true'))\n",
    "print('est:', sm.get_placement('est'))\n",
    "\n",
    "sum2 = calc_dev2_all()\n",
    "print('rms of residuals:', np.sqrt(sum2/len(sm.targets)))"
   ]
  },
  {
   "cell_type": "code",
   "execution_count": null,
   "id": "a1aa92679f7dda48",
   "metadata": {
    "jupyter": {
     "outputs_hidden": false
    }
   },
   "outputs": [],
   "source": [
    "# Show in 3D the deviations between est and survey (or between est and true) to illustrate how survey optimization proceeds \n",
    "\n",
    "# to keep mpmt numbering consistent with the full WCTE detector, we need to add an offset\n",
    "first_target = {'bottom':0, 'top':16}[sm.name]\n",
    "first_mpmt = {'bottom':0, 'barrel':21, 'top':85}[sm.name]\n",
    "\n",
    "plot = k3d.plot()\n",
    "\n",
    "\n",
    "origins = []\n",
    "survey_vecs = []\n",
    "vec_length = 100. # length of x,z vectors to show for each mpmt\n",
    "\n",
    "survey_scale = 1. # scale up the length of deviations\n",
    "color_survey = 0xff0000\n",
    "color_mpmt = 0xabb2b9\n",
    "color_target = 0xad4113\n",
    "\n",
    "color_missing_mpmt = 0xa83273\n",
    "missing_mpmts = [85, 91, 99]\n",
    "\n",
    "n_point_mpmt = 8\n",
    "indices_mpmt = []\n",
    "for i in range(n_point_mpmt):\n",
    "    indices_mpmt.append([i,(i+1)%n_point_mpmt])\n",
    "\n",
    "n_fd_point_mpmt = 40\n",
    "fd_indices_mpmt = []\n",
    "for i in range(n_fd_point_mpmt):\n",
    "    fd_indices_mpmt.append([i,(i+1)%n_fd_point_mpmt])\n",
    "\n",
    "n_point_ft = 20 # for feedthroughs and C holes\n",
    "indices_ft = []\n",
    "for i in range(n_point_ft):\n",
    "    indices_ft.append([i,(i+1)%n_point_ft])\n",
    "\n",
    "# draw the extent of the mpmt baseplates\n",
    "for i_mpmt,mpmt in enumerate(sm.mpmts):\n",
    "    p = mpmt.get_placement('est')\n",
    "    location = p['location']\n",
    "\n",
    "    baseplate_points = np.array(mpmt.get_xy_points('est'),dtype=np.float32)\n",
    "    color = color_mpmt\n",
    "    if i_mpmt+first_mpmt in missing_mpmts:\n",
    "        color = color_missing_mpmt\n",
    "        \n",
    "    indices = indices_mpmt\n",
    "    if mpmt.kind == 'FD':\n",
    "        indices = fd_indices_mpmt\n",
    "    plt_baseplate = k3d.lines(baseplate_points, indices, indices_type='segment', color=color)\n",
    "    plot += plt_baseplate\n",
    "\n",
    "    if i_mpmt+first_mpmt not in missing_mpmts:\n",
    "        if mpmt.kind != 'FD':\n",
    "            feedthrough_points = np.array(mpmt.get_xy_points('est', feature='feedthrough'),dtype=np.float32)\n",
    "            plt_feedthrough = k3d.lines(feedthrough_points, indices_ft, indices_type='segment', color=color_mpmt)\n",
    "            plot += plt_feedthrough\n",
    "        else:\n",
    "            feedthrough1_points = np.array(mpmt.get_xy_points('est', feature='fd_feedthrough1'),dtype=np.float32)\n",
    "            plt_feedthrough1 = k3d.lines(feedthrough1_points, indices_ft, indices_type='segment', color=color_mpmt)\n",
    "            plot += plt_feedthrough1\n",
    "            feedthrough2_points = np.array(mpmt.get_xy_points('est', feature='fd_feedthrough2'),dtype=np.float32)\n",
    "            plt_feedthrough2 = k3d.lines(feedthrough2_points, indices_ft, indices_type='segment', color=color_mpmt)\n",
    "            plot += plt_feedthrough2\n",
    "\n",
    "    # k3d complains about the following not being float32!\n",
    "    plt_text = k3d.text(str(i_mpmt+first_mpmt), position=location, reference_point='cc', size=1., label_box=False, color=color)\n",
    "    plot += plt_text\n",
    "\n",
    "# draw the targets\n",
    "target_origins = []\n",
    "if 1==1 and sm.targets is not None:\n",
    "    for i_target, target in enumerate(sm.targets):\n",
    "        \n",
    "        p = target.get_placement('est')\n",
    "        location, direction_x, direction_z = p['location'], p['direction_x'], p['direction_z']\n",
    "        target_origins.append(location)\n",
    "        text_location = [location[j] - 10.*direction_z[j] for j in range(3)]\n",
    "        plt_text = k3d.text(str(i_target+first_target), position=text_location, reference_point='cc', size=1., label_box=False, color=color_target)\n",
    "        plot += plt_text\n",
    "    \n",
    "#plot target locations and axis\n",
    "target_locations = np.array(target_origins, dtype=np.float32)\n",
    "plt_targets = k3d.points(positions=target_locations,\n",
    "                        point_size=8.,\n",
    "                        shader='3d',\n",
    "                        color=color_target)\n",
    "plot += plt_targets\n",
    "\n",
    "# show the surveyed locations of the targets\n",
    "\n",
    "target_surveys = []\n",
    "for survey_datum in survey_data:\n",
    "    target_surveys.append(np.array(survey_datum, dtype=np.float32)*1000.) # convert to mm\n",
    "\n",
    "plt_fs = k3d.points(positions=target_surveys,\n",
    "                    point_size=8.,\n",
    "                    shader='3d',\n",
    "                    color=color_survey)\n",
    "plot += plt_fs\n",
    "\n",
    "# show a vector from the design to the surveyed\n",
    "survey_scale = 100. # scale up the length of deviations\n",
    "for i in range(len(survey_data)):\n",
    "    origins.append(target_locations[i])\n",
    "    diff = np.subtract(target_surveys[i],target_locations[i])\n",
    "    scaled_diff = list(diff*survey_scale)\n",
    "    survey_vecs.append(scaled_diff)\n",
    "\n",
    "plt_survey_vecs = k3d.vectors(origins=origins, vectors=survey_vecs, color=color_survey, head_size=250.)\n",
    "plot += plt_survey_vecs\n",
    "\n",
    "plot.display()"
   ]
  },
  {
   "cell_type": "code",
   "execution_count": null,
   "id": "27d871e7",
   "metadata": {},
   "outputs": [],
   "source": [
    "top_placement = sm.get_placement('est')"
   ]
  },
  {
   "cell_type": "code",
   "execution_count": null,
   "id": "ee739684",
   "metadata": {},
   "outputs": [],
   "source": [
    "bottom_placement = sm.get_placement('est')"
   ]
  },
  {
   "cell_type": "code",
   "execution_count": null,
   "id": "ca0502c0",
   "metadata": {},
   "outputs": [],
   "source": [
    "print(np.arccos(np.dot(top_placement['direction_z'],bottom_placement['direction_z'])))\n",
    "print(np.arccos(np.dot(top_placement['direction_x'],bottom_placement['direction_x'])))"
   ]
  },
  {
   "cell_type": "code",
   "execution_count": null,
   "id": "84b546e8-1d77-4e7c-97b4-183df7098f6c",
   "metadata": {},
   "outputs": [],
   "source": [
    "# save the top level device (and thereby the entire geometry)\n",
    "my_room.save_file('my_room.geo')"
   ]
  },
  {
   "cell_type": "code",
   "execution_count": null,
   "id": "2c1316fe-1016-43af-abf2-3b8e76f18fcd",
   "metadata": {},
   "outputs": [],
   "source": [
    "# read the saved device back again\n",
    "from Geometry.Device import Device\n",
    "new_room = Device.open_file('my_room.geo')"
   ]
  },
  {
   "cell_type": "code",
   "execution_count": null,
   "id": "4e34bf67-3c8b-4b1e-8262-57ff52913df2",
   "metadata": {},
   "outputs": [],
   "source": []
  }
 ],
 "metadata": {
  "kernelspec": {
   "display_name": "Python 3 (ipykernel)",
   "language": "python",
   "name": "python3"
  },
  "language_info": {
   "codemirror_mode": {
    "name": "ipython",
    "version": 3
   },
   "file_extension": ".py",
   "mimetype": "text/x-python",
   "name": "python",
   "nbconvert_exporter": "python",
   "pygments_lexer": "ipython3",
   "version": "3.9.5"
  }
 },
 "nbformat": 4,
 "nbformat_minor": 5
}
