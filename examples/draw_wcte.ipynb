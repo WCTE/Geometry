{
 "cells": [
  {
   "cell_type": "code",
   "execution_count": 1,
   "id": "initial_id",
   "metadata": {
    "ExecuteTime": {
     "end_time": "2024-01-06T22:09:29.166735500Z",
     "start_time": "2024-01-06T22:09:24.830341500Z"
    }
   },
   "outputs": [],
   "source": [
    "import k3d\n",
    "import numpy as np\n",
    "\n",
    "import sys\n",
    "sys.path.insert(0, \"..\")\n",
    "\n",
    "from Geometry.WCD import WCD"
   ]
  },
  {
   "cell_type": "code",
   "execution_count": 2,
   "id": "bd906df9653d1d7c",
   "metadata": {
    "ExecuteTime": {
     "end_time": "2024-01-06T22:10:08.134754200Z",
     "start_time": "2024-01-06T22:10:07.628595200Z"
    },
    "collapsed": false,
    "jupyter": {
     "outputs_hidden": false
    }
   },
   "outputs": [],
   "source": [
    "wcte = WCD('wcte', kind='WCTE')"
   ]
  },
  {
   "cell_type": "code",
   "execution_count": 3,
   "id": "f0a156dc5d2ca233",
   "metadata": {
    "collapsed": false,
    "jupyter": {
     "outputs_hidden": false
    }
   },
   "outputs": [
    {
     "name": "stderr",
     "output_type": "stream",
     "text": [
      "C:\\Users\\Karlen\\AppData\\Local\\Programs\\Python\\Python39\\lib\\site-packages\\traittypes\\traittypes.py:97: UserWarning: Given trait value dtype \"float64\" does not match required type \"float32\". A coerced copy has been created.\n",
      "  warnings.warn(\n"
     ]
    },
    {
     "data": {
      "application/vnd.jupyter.widget-view+json": {
       "model_id": "d78fdc955f484606831deacab8e705e9",
       "version_major": 2,
       "version_minor": 0
      },
      "text/plain": [
       "Output()"
      ]
     },
     "metadata": {},
     "output_type": "display_data"
    }
   ],
   "source": [
    "# Show numbering and orientation of all mPMTs in the WCTE detector\n",
    "\n",
    "plot = k3d.plot()\n",
    "\n",
    "# mpmt coordinates\n",
    "color_z = 0x0000ff\n",
    "color_x = 0xff0000\n",
    "color_y = 0x00ff00\n",
    "origins = []\n",
    "z_vecs = []\n",
    "x_vecs = []\n",
    "y_vecs = []\n",
    "vec_length = 100. # length of x,z vectors to show for each pmt\n",
    "\n",
    "color_mpmt = 0xabb2b9\n",
    "n_point_mpmt = 8\n",
    "indices_mpmt = []\n",
    "for i in range(n_point_mpmt):\n",
    "    indices_mpmt.append([i,(i+1)%n_point_mpmt])\n",
    "\n",
    "n_point_ft = 20\n",
    "indices_ft = []\n",
    "for i in range(n_point_ft):\n",
    "    indices_ft.append([i,(i+1)%n_point_ft])\n",
    "    \n",
    "# draw the extent of the mpmt baseplates\n",
    "for i_mpmt,mpmt in enumerate(wcte.mpmts):\n",
    "    \n",
    "    p = mpmt.get_placement('design')\n",
    "    location, direction_x, direction_z = p['location'], p['direction_x'], p['direction_z']\n",
    "    direction_y = np.cross(direction_z,direction_x)\n",
    "    # lists to show mPMT coordinate systems\n",
    "    z_vec = list(np.array(direction_z)*vec_length)\n",
    "    x_vec = list(np.array(direction_x)*vec_length)\n",
    "    y_vec = list(np.array(direction_y)*vec_length)\n",
    "    origins.append(location)\n",
    "    z_vecs.append(z_vec)\n",
    "    x_vecs.append(x_vec)\n",
    "    y_vecs.append(y_vec)\n",
    "    \n",
    "    baseplate_points = np.array(mpmt.get_xy_points('design'),dtype=np.float32)\n",
    "    plt_baseplate = k3d.lines(baseplate_points, indices_mpmt, indices_type='segment', color=color_mpmt)\n",
    "    plot += plt_baseplate\n",
    "    \n",
    "    feedthrough_points = np.array(mpmt.get_xy_points('design', feature='feedthrough'),dtype=np.float32)\n",
    "    plt_feedthrough = k3d.lines(feedthrough_points, indices_ft, indices_type='segment', color=color_mpmt)\n",
    "    plot += plt_feedthrough\n",
    "    \n",
    "    # k3d complains about the following not being float32!\n",
    "    plt_text = k3d.text(str(i_mpmt), position=location, reference_point='cc', size=1., label_box=False, color=color_mpmt)\n",
    "    plot += plt_text\n",
    "    \n",
    "plt_z_vecs = k3d.vectors(origins=origins, vectors=z_vecs, color=color_z, head_size=250.)\n",
    "plot += plt_z_vecs\n",
    "plt_x_vecs = k3d.vectors(origins=origins, vectors=x_vecs, color=color_x, head_size=250.)\n",
    "plot += plt_x_vecs\n",
    "plt_y_vecs = k3d.vectors(origins=origins, vectors=y_vecs, color=color_y, head_size=250.)\n",
    "plot += plt_y_vecs\n",
    "\n",
    "plot.display()"
   ]
  },
  {
   "cell_type": "code",
   "execution_count": 4,
   "id": "502521cc-d1fe-42e1-8902-a4ac2efb71d2",
   "metadata": {},
   "outputs": [
    {
     "data": {
      "application/vnd.jupyter.widget-view+json": {
       "model_id": "28e703ca405e45bebd261437f27e2162",
       "version_major": 2,
       "version_minor": 0
      },
      "text/plain": [
       "Output()"
      ]
     },
     "metadata": {},
     "output_type": "display_data"
    }
   ],
   "source": [
    "# Show all mPMTs and some PMTs+LEDs in the WCTE detector\n",
    "\n",
    "plot = k3d.plot()\n",
    "\n",
    "# mpmt coordinates\n",
    "color_z = 0x0000ff\n",
    "color_x = 0xff0000\n",
    "color_y = 0x00ff00\n",
    "origins = []\n",
    "z_vecs = []\n",
    "x_vecs = []\n",
    "vec_length = 100. # length of x,z vectors to show for each pmt\n",
    "\n",
    "color_mpmt = 0xabb2b9\n",
    "n_point_mpmt = 8\n",
    "indices_mpmt = []\n",
    "for i in range(n_point_mpmt):\n",
    "    indices_mpmt.append([i,(i+1)%n_point_mpmt])\n",
    "    \n",
    "n_point_ft = 20\n",
    "indices_ft = []\n",
    "for i in range(n_point_ft):\n",
    "    indices_ft.append([i,(i+1)%n_point_ft])\n",
    "    \n",
    "# pmt faces:\n",
    "color_pmt = 0xdc7633\n",
    "n_point_pmt = 20\n",
    "indices_pmt = []\n",
    "for i in range(n_point_pmt):\n",
    "    indices_pmt.append([i,(i+1)%n_point_pmt])\n",
    "    \n",
    "# led coordinates\n",
    "led_origins = []\n",
    "led_z_vecs = []\n",
    "led_vec_length = 30. # length of z vectors to show for each led\n",
    "\n",
    "color_led = 0x00ff00\n",
    "    \n",
    "# draw the extent of the mpmt baseplates\n",
    "for i_mpmt,mpmt in enumerate(wcte.mpmts):\n",
    "    \n",
    "    p = mpmt.get_placement('design')\n",
    "    location, direction_x, direction_z = p['location'], p['direction_x'], p['direction_z']\n",
    "    # lists to show mPMT coordinate systems\n",
    "    z_vec = list(np.array(direction_z)*vec_length)\n",
    "    x_vec = list(np.array(direction_x)*vec_length)\n",
    "    origins.append(location)\n",
    "    z_vecs.append(z_vec)\n",
    "    x_vecs.append(x_vec)\n",
    "    \n",
    "    baseplate_points = np.array(mpmt.get_xy_points('design'),dtype=np.float32)\n",
    "    plt_baseplate = k3d.lines(baseplate_points, indices_mpmt, indices_type='segment', color=color_mpmt)\n",
    "    plot += plt_baseplate\n",
    "    \n",
    "    feedthrough_points = np.array(mpmt.get_xy_points('design', feature='feedthrough'),dtype=np.float32)\n",
    "    plt_feedthrough = k3d.lines(feedthrough_points, indices_ft, indices_type='segment', color=color_mpmt)\n",
    "    plot += plt_feedthrough\n",
    "    \n",
    "    if i_mpmt%5 == 0:\n",
    "        for i_pmt, pmt in enumerate(mpmt.pmts):\n",
    "\n",
    "            # k3d expects ndarray of float32 for segments\n",
    "            circle_points = np.array(pmt.get_circle_points(n_point_pmt,'design'),dtype=np.float32)\n",
    "            plt_circle = k3d.lines(circle_points, indices_pmt, indices_type='segment', color=color_pmt)\n",
    "            plot += plt_circle\n",
    "            \n",
    "        for i_led, led in enumerate(mpmt.leds):\n",
    "            p = led.get_placement('design')\n",
    "            location, direction_x, direction_z = p['location'], p['direction_x'], p['direction_z']\n",
    "            z_vec = list(np.array(direction_z)*led_vec_length)\n",
    "            led_origins.append(location)\n",
    "            led_z_vecs.append(z_vec)\n",
    "    \n",
    "    # k3d complains about the following not being float32!\n",
    "    #plt_text = k3d.text(str(i_mpmt), position=location, reference_point='cc', size=1., label_box=False, color=color_mpmt)\n",
    "    #plot += plt_text\n",
    "    \n",
    "#plt_z_vecs = k3d.vectors(origins=origins, vectors=z_vecs, color=color_z, head_size=250.)\n",
    "#plot += plt_z_vecs\n",
    "\n",
    "#plot led locations and axis\n",
    "led_locations = np.array(led_origins, dtype=np.float32)    \n",
    "plt_leds = k3d.points(positions=led_locations,\n",
    "                        point_size=8.,\n",
    "                        shader='3d',\n",
    "                        color=color_led)\n",
    "plot += plt_leds\n",
    "\n",
    "plt_led_z_vecs = k3d.vectors(origins=led_origins, vectors=led_z_vecs, color=color_z, head_size=50.)\n",
    "plot += plt_led_z_vecs\n",
    "\n",
    "plot.display()"
   ]
  },
  {
   "cell_type": "code",
   "execution_count": null,
   "id": "e0eece6a-339a-4599-b4a2-28507044390c",
   "metadata": {},
   "outputs": [],
   "source": []
  }
 ],
 "metadata": {
  "kernelspec": {
   "display_name": "Python 3 (ipykernel)",
   "language": "python",
   "name": "python3"
  },
  "language_info": {
   "codemirror_mode": {
    "name": "ipython",
    "version": 3
   },
   "file_extension": ".py",
   "mimetype": "text/x-python",
   "name": "python",
   "nbconvert_exporter": "python",
   "pygments_lexer": "ipython3",
   "version": "3.9.13"
  }
 },
 "nbformat": 4,
 "nbformat_minor": 5
}
